{
  "nbformat": 4,
  "nbformat_minor": 0,
  "metadata": {
    "colab": {
      "name": "Minimum_Internal_Constraints.ipynb",
      "provenance": [],
      "collapsed_sections": [],
      "authorship_tag": "ABX9TyN2zGf7Kp1Y/Zb/8WGIjvmJ",
      "include_colab_link": true
    },
    "kernelspec": {
      "name": "python3",
      "display_name": "Python 3"
    }
  },
  "cells": [
    {
      "cell_type": "markdown",
      "metadata": {
        "id": "view-in-github",
        "colab_type": "text"
      },
      "source": [
        "<a href=\"https://colab.research.google.com/github/JasonManesis/Least-Squares-Adjustment-of-Horizontal-Geodetic-Network/blob/main/Minimum_Internal_Constraints.ipynb\" target=\"_parent\"><img src=\"https://colab.research.google.com/assets/colab-badge.svg\" alt=\"Open In Colab\"/></a>"
      ]
    },
    {
      "cell_type": "markdown",
      "metadata": {
        "id": "ctdPuQt8fQiW"
      },
      "source": [
        "# Definition of the network properties. "
      ]
    },
    {
      "cell_type": "code",
      "metadata": {
        "id": "uWS4MpJN9R3X"
      },
      "source": [
        "#Import modules.\n",
        "import numpy as np\n",
        "import sympy as sp\n",
        "import sys\n",
        "from sympy import symbols, diff\n",
        "from numpy.linalg import multi_dot\n",
        "import math\n",
        "import matplotlib.pyplot as plt\n",
        "from matplotlib.patches import Ellipse"
      ],
      "execution_count": null,
      "outputs": []
    },
    {
      "cell_type": "code",
      "metadata": {
        "id": "IcRAPXAO9dje",
        "colab": {
          "base_uri": "https://localhost:8080/"
        },
        "outputId": "6c3ab020-5f43-41a7-cc5c-19e936cfe641"
      },
      "source": [
        "n = 16 #number of measuremens.\n",
        "v = 5 #number of network nodes.\n",
        "d = 3 #imperfections : position and orientation = 2+1 =3\n",
        "m = 2*v-d #number of unknown parameters.\n",
        "r = n - m #degrees of freedom.\n",
        "c = r + m #number of observation equations.\n",
        "\n",
        "np.set_printoptions(suppress=True,threshold=np.inf,linewidth=300,precision=15) \n",
        "\n",
        "print(\"{} observation equations must be created\".format(c))\n",
        "print('-'*40)\n",
        "print(\"The design matrix A has dimensions of {}x{}\".format(n,2*v))\n",
        "print(\"The constraint matrix C has dimensions of {}x{}\".format(d,2*v))\n",
        "print(\"The weight matrix P has dimensions of {}x{}\".format(n,n))"
      ],
      "execution_count": null,
      "outputs": [
        {
          "output_type": "stream",
          "text": [
            "16 observation equations must be created\n",
            "----------------------------------------\n",
            "The design matrix A has dimensions of 16x10\n",
            "The constraint matrix C has dimensions of 3x10\n",
            "The weight matrix P has dimensions of 16x16\n"
          ],
          "name": "stdout"
        }
      ]
    },
    {
      "cell_type": "code",
      "metadata": {
        "id": "ty0uAm1V_NzI"
      },
      "source": [
        "#Matrices of measurements and standard errors.\n",
        "l = np.array([64.1902,50.8882,32.4675,60.7616,26.2679,43.1958,92.6467,29.5762,106.2276,116.6508,112.9705,64.1595,490.249,220.725,791.552,659.535]) #array which includes all measurements. (angles+lengths)\n",
        "noa = 12 #number of angles \n",
        "sigma_1 = np.array([25]*noa) #the standard error is in cc!\n",
        "sigma_2 = np.array([0.012]*(l.shape[0]-noa)) #the standard error is in meters!\n",
        "sigma = np.concatenate((sigma_1,sigma_2))"
      ],
      "execution_count": null,
      "outputs": []
    },
    {
      "cell_type": "code",
      "metadata": {
        "id": "03aU0Nkog2LW"
      },
      "source": [
        "#Temporary coordinates of network nodes.\n",
        "x = np.array([1586.537,2075.094,2222.679,1449.130,1688.320])\n",
        "y = np.array([937.235,896.541,354.801,522.664,741.395])"
      ],
      "execution_count": null,
      "outputs": []
    },
    {
      "cell_type": "code",
      "metadata": {
        "colab": {
          "base_uri": "https://localhost:8080/"
        },
        "id": "OIqgjMCzbsQh",
        "outputId": "b373b181-d964-496d-cd19-c11898dd01af"
      },
      "source": [
        "#Create a vector X with the coordinates of all network nodes.\n",
        "X = np.zeros(shape=(2*x.shape[0]))\n",
        "j=0\n",
        "for i in range(2*x.shape[0]):\n",
        "  if i%2==0:\n",
        "    X[i]=x[j] \n",
        "  else:X[i]=y[j] \n",
        "  if i%2!=0:j+=1 \n",
        "X  "
      ],
      "execution_count": null,
      "outputs": [
        {
          "output_type": "execute_result",
          "data": {
            "text/plain": [
              "array([1586.537,  937.235, 2075.094,  896.541, 2222.679,  354.801, 1449.13 ,  522.664, 1688.32 ,  741.395])"
            ]
          },
          "metadata": {
            "tags": []
          },
          "execution_count": 87
        }
      ]
    },
    {
      "cell_type": "code",
      "metadata": {
        "id": "wsDiy_msmxPc"
      },
      "source": [
        "#Create the necessary variables.\n",
        "b_jik, a_ik, a_ij = symbols(\"b_jik, a_ik, a_ij \")\n",
        "y_i,y_j,y_k = symbols(\"y_i,y_j,y_k\")\n",
        "x_i,x_j,x_k = symbols(\"x_i,x_j,x_k\")\n",
        "S_ij,S_ik = symbols(\"S_ij,S_ik\")\n",
        "dx_i,dx_j,dx_k = symbols(\"dx_i,dx_j,dx_k\")\n",
        "dy_i,dy_j,dy_k = symbols(\"dy_i,dy_j,dy_k\")\n",
        "\n",
        "#Auxiliary indices.\n",
        "jj = np.array([2,5,1,5,4,5,3,5,1,4,3,2,2,5,3,3])-1\n",
        "ii = np.array([1,1,4,4,3,3,2,2,5,5,5,5,1,1,4,5])-1\n",
        "kk = np.array([5,4,5,3,5,2,5,1,2,1,4,3])-1"
      ],
      "execution_count": null,
      "outputs": []
    },
    {
      "cell_type": "code",
      "metadata": {
        "id": "uT9N79SIvUz4",
        "colab": {
          "base_uri": "https://localhost:8080/",
          "height": 68
        },
        "outputId": "09932cbd-9251-4d3b-8640-c5bd58efecc8"
      },
      "source": [
        "#Linearized angle equations.\n",
        "angle_eq = (((y_j-y_i)/S_ij**2 - (y_k-y_i)/S_ik**2)*dx_i + ((x_k-x_i)/S_ik**2 - (x_j-x_i)/S_ij**2)*dy_i\n",
        "            - dx_j*(y_j-y_i)/S_ij**2 + dy_j*(x_j-x_i)/S_ij**2 + dx_k*(y_k-y_i)/S_ik**2 - dy_k*(x_k-x_i)/S_ik**2\n",
        "           )\n",
        "angle_eq"
      ],
      "execution_count": null,
      "outputs": [
        {
          "output_type": "execute_result",
          "data": {
            "text/latex": "$\\displaystyle dx_{i} \\left(- \\frac{- y_{i} + y_{k}}{S_{ik}^{2}} + \\frac{- y_{i} + y_{j}}{S_{ij}^{2}}\\right) + dy_{i} \\left(\\frac{- x_{i} + x_{k}}{S_{ik}^{2}} - \\frac{- x_{i} + x_{j}}{S_{ij}^{2}}\\right) + \\frac{dx_{k} \\left(- y_{i} + y_{k}\\right)}{S_{ik}^{2}} - \\frac{dy_{k} \\left(- x_{i} + x_{k}\\right)}{S_{ik}^{2}} - \\frac{dx_{j} \\left(- y_{i} + y_{j}\\right)}{S_{ij}^{2}} + \\frac{dy_{j} \\left(- x_{i} + x_{j}\\right)}{S_{ij}^{2}}$",
            "text/plain": [
              "dx_i*(-(-y_i + y_k)/S_ik**2 + (-y_i + y_j)/S_ij**2) + dy_i*((-x_i + x_k)/S_ik**2 - (-x_i + x_j)/S_ij**2) + dx_k*(-y_i + y_k)/S_ik**2 - dy_k*(-x_i + x_k)/S_ik**2 - dx_j*(-y_i + y_j)/S_ij**2 + dy_j*(-x_i + x_j)/S_ij**2"
            ]
          },
          "metadata": {
            "tags": []
          },
          "execution_count": 89
        }
      ]
    },
    {
      "cell_type": "code",
      "metadata": {
        "id": "gm7KxSNR9qjZ",
        "colab": {
          "base_uri": "https://localhost:8080/",
          "height": 58
        },
        "outputId": "6a8ce418-dbfe-414a-a90e-1909e6283693"
      },
      "source": [
        "#Linearized distance equations.\n",
        "dist_eq = -(x_j-x_i)/S_ij*dx_i-dy_i*(y_j-y_i)/S_ij+(x_j-x_i)/S_ij*dx_j+dy_j*(y_j-y_i)/S_ij\n",
        "dist_eq"
      ],
      "execution_count": null,
      "outputs": [
        {
          "output_type": "execute_result",
          "data": {
            "text/latex": "$\\displaystyle \\frac{dx_{i} \\left(x_{i} - x_{j}\\right)}{S_{ij}} + \\frac{dx_{j} \\left(- x_{i} + x_{j}\\right)}{S_{ij}} - \\frac{dy_{i} \\left(- y_{i} + y_{j}\\right)}{S_{ij}} + \\frac{dy_{j} \\left(- y_{i} + y_{j}\\right)}{S_{ij}}$",
            "text/plain": [
              "dx_i*(x_i - x_j)/S_ij + dx_j*(-x_i + x_j)/S_ij - dy_i*(-y_i + y_j)/S_ij + dy_j*(-y_i + y_j)/S_ij"
            ]
          },
          "metadata": {
            "tags": []
          },
          "execution_count": 90
        }
      ]
    },
    {
      "cell_type": "code",
      "metadata": {
        "id": "AKpwMSkEwTdb"
      },
      "source": [
        "def finda(dx,dy,a):\n",
        "  '''This function calculates the true value of an azimuth angle'''\n",
        "  if dx>0:\n",
        "    if dy>0:return 200*a/math.pi \n",
        "    if dy==0:return 100\n",
        "    if dy<0:return 200+200*a/math.pi\n",
        "  if dx<0:\n",
        "    if dy>0:return 400+200*a/math.pi \n",
        "    if dy==0:return 300\n",
        "    if dy<0:return 200+200*a/math.pi  \n",
        "  if dx==0:\n",
        "    if dy>0:return 0\n",
        "    if dy==0:return print(\"Division by 0!\")\n",
        "    if dy<0:return 200     "
      ],
      "execution_count": null,
      "outputs": []
    },
    {
      "cell_type": "markdown",
      "metadata": {
        "id": "Ehz8ivsd63wW"
      },
      "source": [
        "# Creation of design matrix Α."
      ]
    },
    {
      "cell_type": "code",
      "metadata": {
        "id": "uHcl-UDkvUrt"
      },
      "source": [
        "#Construction of the 16 observation equations.\n",
        "eqs = np.empty(shape=(n,), dtype=object)\n",
        "for i in range(eqs.shape[0]):\n",
        "  Sij = np.sqrt((x[jj[i]]-x[ii[i]])**2+(y[jj[i]]-y[ii[i]])**2)\n",
        "  if i<=noa-1:\n",
        "    Sik = np.sqrt((x[kk[i]]-x[ii[i]])**2+(y[kk[i]]-y[ii[i]])**2)\n",
        "    eqs[i]=angle_eq.subs([(x_i,x[ii[i]]),(x_j,x[jj[i]]),(x_k,x[kk[i]]),(y_i,y[ii[i]]),(y_j,y[jj[i]]),(y_k,y[kk[i]]),(S_ij,Sij),(S_ik,Sik),\n",
        "                        (dx_i,symbols('dx_{}'.format(ii[i]))),\n",
        "                        (dx_j,symbols('dx_{}'.format(jj[i]))),\n",
        "                        (dx_k,symbols('dx_{}'.format(kk[i]))),\n",
        "                        (dy_i,symbols('dy_{}'.format(ii[i]))),\n",
        "                        (dy_j,symbols('dy_{}'.format(jj[i]))),\n",
        "                        (dy_k,symbols('dy_{}'.format(kk[i])))\n",
        "                        ])*636620\n",
        "  else:\n",
        "    eqs[i] = dist_eq.subs([(x_i,x[ii[i]]),(x_j,x[jj[i]]),(y_i,y[ii[i]]),(y_j,y[jj[i]]),(S_ij,Sij),\n",
        "                        (dx_i,symbols('dx_{}'.format(ii[i]))),\n",
        "                        (dx_j,symbols('dx_{}'.format(jj[i]))),\n",
        "                        (dy_i,symbols('dy_{}'.format(ii[i]))),\n",
        "                        (dy_j,symbols('dy_{}'.format(jj[i]))),\n",
        "                                                ])"
      ],
      "execution_count": null,
      "outputs": []
    },
    {
      "cell_type": "code",
      "metadata": {
        "id": "RNfaefvJ3c5e",
        "colab": {
          "base_uri": "https://localhost:8080/"
        },
        "outputId": "8d03fbbd-33b1-4c78-c1a3-89f3ea8d70e7"
      },
      "source": [
        "#Create auxiliary vector.\n",
        "dx_0,dy_0,dx_1,dy_1,dx_2,dy_2,dx_3,dy_3,dx_4,dy_4 = symbols('dx_0,dy_0,dx_1,dy_1,dx_2,dy_2,dx_3,dy_3,dx_4,dy_4')\n",
        "\n",
        "DX = [dx_0,dy_0,\n",
        "      dx_1,dy_1,\n",
        "      dx_2,dy_2,\n",
        "      dx_3,dy_3,\n",
        "      dx_4,dy_4]\n",
        "\n",
        "DX "
      ],
      "execution_count": null,
      "outputs": [
        {
          "output_type": "execute_result",
          "data": {
            "text/plain": [
              "[dx_0, dy_0, dx_1, dy_1, dx_2, dy_2, dx_3, dy_3, dx_4, dy_4]"
            ]
          },
          "metadata": {
            "tags": []
          },
          "execution_count": 93
        }
      ]
    },
    {
      "cell_type": "code",
      "metadata": {
        "colab": {
          "base_uri": "https://localhost:8080/"
        },
        "id": "4Sc-n_PuvUJv",
        "outputId": "8cf9083a-0967-4009-9f7c-cc52ff197e50"
      },
      "source": [
        "#Differentiation of each equation with each one of the unknown parameters and creation of design matrix Α.  \n",
        "A = np.zeros(shape=(n,m+d))\n",
        "for i in range(0,n):\n",
        "  for j in range(0,m+d):\n",
        "      A[i,j] = diff(eqs[i],DX[j])\n",
        "print('Array A is:\\n')\n",
        "print(A)  "
      ],
      "execution_count": null,
      "outputs": [
        {
          "output_type": "stream",
          "text": [
            "Array A is:\n",
            "\n",
            "[[ 2451.597762888792       36.094803413594725   107.7897527236875    1294.0836049891052       0.                    0.                    0.                    0.                -2559.38751561248     -1330.1784084027     ]\n",
            " [-1175.7729943068243   -1788.7689044312356       0.                    0.                    0.                    0.                -1383.6145213056554     458.5904960285357    2559.38751561248      1330.1784084027     ]\n",
            " [-1383.6145213056554     458.5904960285357       0.                    0.                    0.                    0.                   58.13369594764356    990.8691535747793    1325.4808253580118   -1449.4596496033148  ]\n",
            " [    0.                    0.                    0.                    0.                 -170.5592730219094    -785.9740090837469    1496.0400983799211    -663.485640519568    -1325.4808253580118    1449.4596496033148  ]\n",
            " [    0.                    0.                    0.                    0.                 -395.22602757374995      3.932726909176023  -170.5592730219094    -785.9740090837469     565.7853005956594     782.0412821745708  ]\n",
            " [    0.                    0.                 1093.9498335660526     298.0222730218295    -528.1645329703932     484.0190091527413       0.                    0.                 -565.7853005956594    -782.0412821745708  ]\n",
            " [    0.                    0.                 -525.2147229321234   -1715.8606554508144    1093.9498335660526     298.0222730218295       0.                    0.                 -568.7351106339293    1417.838382428985   ]\n",
            " [  107.7897527236875    1294.0836049891052    -676.5248633576167     123.75477743987975      0.                    0.                    0.                    0.                  568.7351106339293   -1417.838382428985   ]\n",
            " [-2559.38751561248     -1330.1784084027        568.7351106339293   -1417.838382428985        0.                    0.                    0.                    0.                 1990.6524049785507    2748.016790831685   ]\n",
            " [ 2559.38751561248      1330.1784084027          0.                    0.                    0.                    0.                 1325.4808253580118   -1449.4596496033148   -3884.8683409704918     119.28124120061494 ]\n",
            " [    0.                    0.                    0.                    0.                  565.7853005956594     782.0412821745708   -1325.4808253580118    1449.4596496033148     759.6955247623524   -2231.500931777886   ]\n",
            " [    0.                    0.                 -568.7351106339293    1417.838382428985     -565.7853005956594    -782.0412821745708       0.                    0.                 1134.5204112295885    -635.7971002544142  ]\n",
            " [   -0.996548978941336     0.083006822436356     0.996548978941336    -0.083006822436356     0.                    0.                    0.                    0.                    0.                    0.               ]\n",
            " [   -0.461160850595852     0.887316555620209     0.                    0.                    0.                    0.                    0.                    0.                    0.461160850595852    -0.887316555620209]\n",
            " [    0.                    0.                    0.                    0.                    0.977254925040277    -0.212067940727783    -0.977254925040277     0.212067940727783     0.                    0.               ]\n",
            " [    0.                    0.                    0.                    0.                    0.810198182548022    -0.586156041507619     0.                    0.                   -0.810198182548022     0.586156041507619]]\n"
          ],
          "name": "stdout"
        }
      ]
    },
    {
      "cell_type": "markdown",
      "metadata": {
        "id": "zAJXRpbH7BBv"
      },
      "source": [
        "# Creation of matrix of the calculated values."
      ]
    },
    {
      "cell_type": "code",
      "metadata": {
        "id": "XRtJUBtU2gkl",
        "colab": {
          "base_uri": "https://localhost:8080/"
        },
        "outputId": "da5e9dbe-5209-4d21-dfe2-f264d20ca3fd"
      },
      "source": [
        "#Creation of matrix of the calculated values.\n",
        "delta_l = np.zeros(shape=(n,))\n",
        "\n",
        "for i in range(n):\n",
        "\n",
        "  if i<=noa-1: #If its a angle equation.\n",
        "    \n",
        "    div1 = (x_k-x_i)/(y_k-y_i)\n",
        "    div2 = (x_j-x_i)/(y_j-y_i)\n",
        "\n",
        "    d1=float(div1.subs([(x_i,x[ii[i]]),(x_j,x[jj[i]]),(x_k,x[kk[i]]),(y_i,y[ii[i]]),(y_j,y[jj[i]]),(y_k,y[kk[i]])]))\n",
        "    d2=float(div2.subs([(x_i,x[ii[i]]),(x_j,x[jj[i]]),(y_i,y[ii[i]]),(y_j,y[jj[i]]),(y_k,y[kk[i]])]))\n",
        "\n",
        "    aik_ = np.arctan(d1)\n",
        "    aij_ = np.arctan(d2)\n",
        "\n",
        "    #Azimuth angle calculation.\n",
        "    deltaX = x_k-x_i\n",
        "    deltaY = y_k-y_i\n",
        "    deltaX = float(deltaX.subs([(x_i,x[ii[i]]),(x_j,x[jj[i]]),(x_k,x[kk[i]]),(y_i,y[ii[i]]),(y_j,y[jj[i]]),(y_k,y[kk[i]])]))\n",
        "    deltaY = float(deltaY.subs([(x_i,x[ii[i]]),(x_j,x[jj[i]]),(x_k,x[kk[i]]),(y_i,y[ii[i]]),(y_j,y[jj[i]]),(y_k,y[kk[i]])]))\n",
        "    aik=finda(deltaX,deltaY,aik_)\n",
        "\n",
        "    deltaX = x_j-x_i\n",
        "    deltaY = y_j-y_i\n",
        "    deltaX = float(deltaX.subs([(x_i,x[ii[i]]),(x_j,x[jj[i]]),(x_k,x[kk[i]]),(y_i,y[ii[i]]),(y_j,y[jj[i]]),(y_k,y[kk[i]])]))\n",
        "    deltaY = float(deltaY.subs([(x_i,x[ii[i]]),(x_j,x[jj[i]]),(x_k,x[kk[i]]),(y_i,y[ii[i]]),(y_j,y[jj[i]]),(y_k,y[kk[i]])]))\n",
        "    aij=finda(deltaX,deltaY,aij_)\n",
        "\n",
        "    delta_l[i]=(l[i]-aik+aij) #in cc\n",
        "    while delta_l[i]>399: delta_l[i]-=400\n",
        "    delta_l[i]=delta_l[i]*10000 #convertion from grad to cc.\n",
        "\n",
        "  else: #If its a distance equation.\n",
        "    \n",
        "    Sij = np.sqrt((x[jj[i]]-x[ii[i]])**2+(y[jj[i]]-y[ii[i]])**2) #distance calculation.\n",
        "    delta_l[i]=l[i]-Sij #in meters \n",
        "\n",
        "delta_l     "
      ],
      "execution_count": null,
      "outputs": [
        {
          "output_type": "execute_result",
          "data": {
            "text/plain": [
              "array([-59.5602269456208  ,  -1.328985675570493,   0.54263166884283 ,   0.376205193788337,  -0.273873615697084,   0.715280497161075,   0.054504408808498,   0.47446446842514 ,  -0.91423752337505 ,  65.78635400671828 ,  -0.102331578091253,  19.23021509455225 ,   0.000140863132685,\n",
              "         0.014590891140813,  -0.000930744369043,  -0.006099338775243])"
            ]
          },
          "metadata": {
            "tags": []
          },
          "execution_count": 95
        }
      ]
    },
    {
      "cell_type": "markdown",
      "metadata": {
        "id": "TQEFKFceQndd"
      },
      "source": [
        "# Calculation of the constraint matrix C."
      ]
    },
    {
      "cell_type": "code",
      "metadata": {
        "id": "A2iROikeCPDC"
      },
      "source": [
        "#Coordinate point transformation from the origin of the coordinate reference system to the cog of the network.\n",
        "x_sog = np.sum(x)/5\n",
        "y_sog = np.sum(y)/5\n",
        "x = x - x_sog\n",
        "y = y - y_sog"
      ],
      "execution_count": null,
      "outputs": []
    },
    {
      "cell_type": "code",
      "metadata": {
        "colab": {
          "base_uri": "https://localhost:8080/"
        },
        "id": "A22IgSYmxRy9",
        "outputId": "c3485748-9335-4f99-bc16-2626808d429b"
      },
      "source": [
        "#Calculation of the constraint matrix.\n",
        "C=np.zeros(shape=(d,2*v))\n",
        "i=0\n",
        "for j in range(2*v):\n",
        "\n",
        "  if j%2!=0: \n",
        "    C[1,j]= 1\n",
        "    C[2,j]=-x[i]\n",
        "    i+=1  \n",
        "    \n",
        "  if j%2==0:\n",
        "    C[0,j]= 1\n",
        "    C[2,j]=y[i]\n",
        "    \n",
        "C  "
      ],
      "execution_count": null,
      "outputs": [
        {
          "output_type": "execute_result",
          "data": {
            "text/plain": [
              "array([[   1.              ,    0.              ,    1.              ,    0.              ,    1.              ,    0.              ,    1.              ,    0.              ,    1.              ,    0.              ],\n",
              "       [   0.              ,    1.              ,    0.              ,    1.              ,    0.              ,    1.              ,    0.              ,    1.              ,    0.              ,    1.              ],\n",
              "       [ 246.70780000000002,  217.81500000000005,  206.01380000000006, -270.74199999999996, -335.7262          , -418.327           , -167.8632          ,  355.222           ,   50.86779999999999,  116.03200000000015]])"
            ]
          },
          "metadata": {
            "tags": []
          },
          "execution_count": 97
        }
      ]
    },
    {
      "cell_type": "markdown",
      "metadata": {
        "id": "SAVJkO3QQyuz"
      },
      "source": [
        "# Creation of the weight matrix P."
      ]
    },
    {
      "cell_type": "code",
      "metadata": {
        "colab": {
          "base_uri": "https://localhost:8080/"
        },
        "id": "VgLGep8P2E4x",
        "outputId": "fe382560-839e-4d8b-df61-12c00c5b5bcf"
      },
      "source": [
        "#Define the a-priori standard error.\n",
        "sigma_0 = 1 \n",
        "\n",
        "I = np.identity(n)\n",
        "P = I*(sigma_0/sigma)**2\n",
        "\n",
        "print('Array P is:\\n')\n",
        "print(P)"
      ],
      "execution_count": null,
      "outputs": [
        {
          "output_type": "stream",
          "text": [
            "Array P is:\n",
            "\n",
            "[[   0.0016            0.                0.                0.                0.                0.                0.                0.                0.                0.                0.                0.                0.                0.                0.                0.            ]\n",
            " [   0.                0.0016            0.                0.                0.                0.                0.                0.                0.                0.                0.                0.                0.                0.                0.                0.            ]\n",
            " [   0.                0.                0.0016            0.                0.                0.                0.                0.                0.                0.                0.                0.                0.                0.                0.                0.            ]\n",
            " [   0.                0.                0.                0.0016            0.                0.                0.                0.                0.                0.                0.                0.                0.                0.                0.                0.            ]\n",
            " [   0.                0.                0.                0.                0.0016            0.                0.                0.                0.                0.                0.                0.                0.                0.                0.                0.            ]\n",
            " [   0.                0.                0.                0.                0.                0.0016            0.                0.                0.                0.                0.                0.                0.                0.                0.                0.            ]\n",
            " [   0.                0.                0.                0.                0.                0.                0.0016            0.                0.                0.                0.                0.                0.                0.                0.                0.            ]\n",
            " [   0.                0.                0.                0.                0.                0.                0.                0.0016            0.                0.                0.                0.                0.                0.                0.                0.            ]\n",
            " [   0.                0.                0.                0.                0.                0.                0.                0.                0.0016            0.                0.                0.                0.                0.                0.                0.            ]\n",
            " [   0.                0.                0.                0.                0.                0.                0.                0.                0.                0.0016            0.                0.                0.                0.                0.                0.            ]\n",
            " [   0.                0.                0.                0.                0.                0.                0.                0.                0.                0.                0.0016            0.                0.                0.                0.                0.            ]\n",
            " [   0.                0.                0.                0.                0.                0.                0.                0.                0.                0.                0.                0.0016            0.                0.                0.                0.            ]\n",
            " [   0.                0.                0.                0.                0.                0.                0.                0.                0.                0.                0.                0.             6944.444444444443    0.                0.                0.            ]\n",
            " [   0.                0.                0.                0.                0.                0.                0.                0.                0.                0.                0.                0.                0.             6944.444444444443    0.                0.            ]\n",
            " [   0.                0.                0.                0.                0.                0.                0.                0.                0.                0.                0.                0.                0.                0.             6944.444444444443    0.            ]\n",
            " [   0.                0.                0.                0.                0.                0.                0.                0.                0.                0.                0.                0.                0.                0.                0.             6944.444444444443]]\n"
          ],
          "name": "stdout"
        }
      ]
    },
    {
      "cell_type": "markdown",
      "metadata": {
        "id": "l3psHTVdxBKh"
      },
      "source": [
        "#System solution."
      ]
    },
    {
      "cell_type": "code",
      "metadata": {
        "id": "EHuBHjJc7lg_",
        "colab": {
          "base_uri": "https://localhost:8080/"
        },
        "outputId": "8a717f78-cd71-4925-b3f5-f79c280f23d8"
      },
      "source": [
        "#Calculate the new array with the adjusted coordinate values of all network nodes.\n",
        "inverted=np.linalg.inv(multi_dot([A.T,P,A])+np.dot(C.T,C))\n",
        "delta_x=multi_dot([inverted,A.T,P,delta_l])\n",
        "X_hat = X+delta_x\n",
        "X_hat"
      ],
      "execution_count": null,
      "outputs": [
        {
          "output_type": "execute_result",
          "data": {
            "text/plain": [
              "array([1586.537032526229 ,  937.2522333226923, 2075.0937496256975,  896.5358811361851, 2222.6772108416385,  354.8030601454126, 1449.126888258779 ,  522.6473902629875, 1688.3251187476565,  741.3974351327224])"
            ]
          },
          "metadata": {
            "tags": []
          },
          "execution_count": 99
        }
      ]
    },
    {
      "cell_type": "markdown",
      "metadata": {
        "id": "gmdrAx8kxG37"
      },
      "source": [
        "#Calculation of the a-priori variance-covariance matrix."
      ]
    },
    {
      "cell_type": "code",
      "metadata": {
        "colab": {
          "base_uri": "https://localhost:8080/"
        },
        "id": "nyPDbQP5hViW",
        "outputId": "f486442b-88ce-4d8a-ad13-ef39769d7cea"
      },
      "source": [
        "#Calculate the a-priori variance-covariance matrix of all network nodes.\n",
        "CCT_inv = np.linalg.inv(np.dot(C,C.T)) \n",
        "Cdot=multi_dot([C.T,CCT_inv,CCT_inv,C])\n",
        "V_x_hat = sigma_0**2*(np.linalg.inv(multi_dot([A.T,P,A])+np.dot(C.T,C))-Cdot)\n",
        "V_x_hat"
      ],
      "execution_count": null,
      "outputs": [
        {
          "output_type": "execute_result",
          "data": {
            "text/plain": [
              "array([[ 0.000028194486366, -0.000000028252791, -0.000006317026236, -0.000005117796106, -0.000009356956003,  0.000019218136859, -0.000023040078606, -0.000020509385187,  0.000010519574435,  0.000006437297932],\n",
              "       [-0.000000028252872,  0.000059839006785,  0.000005844250791, -0.000004778854254,  0.000007144451323, -0.000002567395725, -0.000031034603119, -0.000059526937549,  0.000018074154179,  0.000007034181696],\n",
              "       [-0.000006317026236,  0.000005844250872,  0.000060252560142,  0.000011915837554, -0.00000993410395 ,  0.000014456573925, -0.000035984464303, -0.000033794510839, -0.000008016965697,  0.000001577849194],\n",
              "       [-0.000005117796187, -0.000004778854254,  0.000011915837473,  0.000053305852641, -0.00000114513891 , -0.000039107898063, -0.000008799603756, -0.000012574976927,  0.000003146701682,  0.000003155877555],\n",
              "       [-0.000009356956003,  0.000007144451404, -0.00000993410395 , -0.000001145138829,  0.000030170228319, -0.000018758497622, -0.000003314132486,  0.000013038014783, -0.000007565035924, -0.00000027882903 ],\n",
              "       [ 0.000019218136779, -0.000002567395726,  0.000014456573844, -0.000039107898063, -0.000018758497702,  0.000054954962161, -0.000017015044284, -0.000010364656763,  0.000002098831666, -0.000002915010656],\n",
              "       [-0.000023040078606, -0.000031034603038, -0.000035984464303, -0.000008799603675, -0.000003314132486, -0.000017015044203,  0.000080733469011,  0.000071641366165, -0.000018394793661, -0.000014792114542],\n",
              "       [-0.000020509385268, -0.000059526937549, -0.00003379451092 , -0.000012574976926,  0.000013038014702, -0.000010364656763,  0.000071641366084,  0.000107140580762, -0.000030375484295, -0.00002467400857 ],\n",
              "       [ 0.000010519574435,  0.00001807415426 , -0.000008016965697,  0.000003146701763, -0.000007565035924,  0.000002098831747, -0.00001839479366 , -0.000030375484214,  0.000023457220802,  0.000007055797152],\n",
              "       [ 0.000006437297851,  0.000007034181696,  0.000001577849114,  0.000003155877555, -0.000000278829111, -0.000002915010656, -0.000014792114623, -0.00002467400857 ,  0.000007055797071,  0.000017398960928]])"
            ]
          },
          "metadata": {
            "tags": []
          },
          "execution_count": 100
        }
      ]
    },
    {
      "cell_type": "markdown",
      "metadata": {
        "id": "I0sqriRYkUU1"
      },
      "source": [
        "# Computation of the a posteriori standard error."
      ]
    },
    {
      "cell_type": "code",
      "metadata": {
        "id": "Y1MtYUUqlWy5",
        "colab": {
          "base_uri": "https://localhost:8080/"
        },
        "outputId": "3aeaec3f-0204-44b3-d40b-07f1fe8062a5"
      },
      "source": [
        "#Calculation of the a-posteriori standard error.\n",
        "u = np.dot(A,delta_x)-delta_l\n",
        "sigma_0_hat = np.sqrt(multi_dot([u.T,P,u])/(n-m))\n",
        "sigma_0_hat"
      ],
      "execution_count": null,
      "outputs": [
        {
          "output_type": "execute_result",
          "data": {
            "text/plain": [
              "0.9781132765786058"
            ]
          },
          "metadata": {
            "tags": []
          },
          "execution_count": 101
        }
      ]
    },
    {
      "cell_type": "markdown",
      "metadata": {
        "id": "2pVAOHYdOmsL"
      },
      "source": [
        "#Graphical representation of the error ellipses."
      ]
    },
    {
      "cell_type": "code",
      "metadata": {
        "id": "GDD0wN9yPKWH"
      },
      "source": [
        "#Final coordinates of network nodes.\n",
        "x_hat = np.zeros(shape=(v,))\n",
        "y_hat = np.zeros(shape=(v,))\n",
        "\n",
        "j=0\n",
        "for i in range(0,v):\n",
        "  x_hat[i] = X_hat[j]\n",
        "  y_hat[i] = X_hat[j+1]\n",
        "  if j%2==0:j+=2\n",
        "\n",
        "#Network edges.\n",
        "lines_x = np.concatenate((x_hat,np.array([x_hat[0],x_hat[4],x_hat[1],x_hat[4],x_hat[2],x_hat[4],x_hat[3],x_hat[4],x_hat[0],x_hat[3]])))\n",
        "lines_y = np.concatenate((y_hat,np.array([y_hat[0],y_hat[4],y_hat[1],y_hat[4],y_hat[2],y_hat[4],y_hat[3],y_hat[4],y_hat[0],y_hat[3]])))"
      ],
      "execution_count": null,
      "outputs": []
    },
    {
      "cell_type": "code",
      "metadata": {
        "id": "YDOCTFsXOuQ2"
      },
      "source": [
        "def auxfunc(V_xy):\n",
        "\n",
        "  '''This function takes as argument the variance-covariance submatrix of the corresponding \n",
        "  network node or edge, and as output it returns the absolute or relative ellipse properties.'''\n",
        "\n",
        "  width, height, angle =0,0,0\n",
        "  \n",
        "  if (V_xy[0,1]+V_xy[0,0]-V_xy[1,1])!=0: \n",
        "\n",
        "    #Define equations for the calculation of the semi-major axis, the semi-minor axis and the orientation of the error ellipse. \n",
        "    sigma_x_sq,sigma_y_sq,sigma_xy = symbols('sigma_x_sq,sigma_y_sq,sigma_xy')\n",
        "    sigma_max_squared = ((sigma_x_sq+sigma_y_sq)+((sigma_x_sq-sigma_y_sq)**2+4*sigma_xy**2)**0.5)/2\n",
        "    sigma_min_squared = ((sigma_x_sq+sigma_y_sq)-((sigma_x_sq-sigma_y_sq)**2+4*sigma_xy**2)**0.5)/2\n",
        "    tan_2theta = 2*sigma_xy/(sigma_x_sq-sigma_y_sq)\n",
        "\n",
        "    #Calculate the length of the semi-major and the semi-minor ellipse axes.\n",
        "    sigma_max_squared = sigma_max_squared.subs([(sigma_x_sq,V_xy[0,0]),(sigma_y_sq,V_xy[1,1]),(sigma_xy,V_xy[0,1])])\n",
        "    sigma_min_squared = sigma_min_squared.subs([(sigma_x_sq,V_xy[0,0]),(sigma_y_sq,V_xy[1,1]),(sigma_xy,V_xy[0,1])])\n",
        "    sigma_u=sigma_max_squared**0.5\n",
        "    sigma_v=sigma_min_squared**0.5\n",
        "    width = 2*sigma_u\n",
        "    height = 2*sigma_v\n",
        "\n",
        "    #Calculate the orientation of the error ellipse.\n",
        "    tan_2theta = tan_2theta.subs([(sigma_x_sq,V_xy[0,0]),(sigma_y_sq,V_xy[1,1]),(sigma_xy,V_xy[0,1])])\n",
        "    theta = math.atan(tan_2theta)*180/(2*math.pi)\n",
        "    \n",
        "    #Extract the variances and the covariances from the input matrix.\n",
        "    sigma_x=V_xy[0,0]**0.5\n",
        "    sigma_y=V_xy[1,1]**0.5\n",
        "    sigma_xy=V_xy[0,1]\n",
        "\n",
        "    #Angle investigation.\n",
        "    if sigma_x>sigma_y:\n",
        "      if sigma_xy>0:angle=theta\n",
        "      if sigma_xy<0:angle=theta+180\n",
        "    if sigma_x<sigma_y:\n",
        "      if sigma_xy>0:angle=theta+90  \n",
        "      if sigma_xy<0:angle=theta+90  \n",
        "    if sigma_x==sigma_y:\n",
        "      if sigma_xy>0:angle=45\n",
        "      if sigma_xy<0:angle=135\n",
        " \n",
        "  return width, height, angle"
      ],
      "execution_count": null,
      "outputs": []
    },
    {
      "cell_type": "code",
      "metadata": {
        "id": "iy9v-kfzCtai"
      },
      "source": [
        "def ellipse_args(netnodecode1, netnodecode2=9999, V_x_hat=V_x_hat):\n",
        "\n",
        "  '''This function takes as arguments the specific network node for the calculation of the absolute error ellipse properties, or\n",
        "  the two network nodes of the corresponding network edge in wich we want to calculate the relative error ellipse arguments. \n",
        "  Aditionally this function takes as argument the variance-covariance matrix of the coordinates of all network nodes. As output,\n",
        "  it extracts the absolute or relative ellipse properties.'''\n",
        "  \n",
        "  netnodecode=netnodecode1\n",
        "  if netnodecode < 5:\n",
        "\n",
        "    if netnodecode2 == 9999: #If we want to calculate the absolute error ellipse.\n",
        "      \n",
        "      #Extract the variance-covariance submatrix of the given network node.\n",
        "      V_xy = V_x_hat[2*netnodecode:2*netnodecode+2,2*netnodecode:2*netnodecode+2]\n",
        "      width, height, angle = auxfunc(V_xy)\n",
        "      return width, height, angle\n",
        "\n",
        "    elif netnodecode2 < 5: #If we want to calculate the relative error ellipse.\n",
        "      \n",
        "      Jrij = np.array([[-1,0,1,0],[0,-1,0,1]])\n",
        "      Vrig = np.ones(shape=(4,4))\n",
        "\n",
        "      #Extract the variance-covariance submatrix of the given network edge.\n",
        "      V_xy1 = V_x_hat[2*netnodecode1:2*netnodecode1+2,2*netnodecode1:2*netnodecode1+2] \n",
        "      V_xy2 = V_x_hat[2*netnodecode2:2*netnodecode2+2,2*netnodecode2:2*netnodecode2+2] \n",
        "      V1 = V_x_hat[2*netnodecode1:2*netnodecode1+2,2*netnodecode2:2*netnodecode2+2] \n",
        "      V2 = V_x_hat[2*netnodecode2:2*netnodecode2+2,2*netnodecode1:2*netnodecode1+2] \n",
        "      Vrig=np.asarray(np.bmat([[V_xy1, V1], [V2, V_xy2]]))\n",
        "\n",
        "      VDrij = multi_dot([Jrij,Vrig,Jrij.T])\n",
        "      width, height, angle = auxfunc(VDrij)\n",
        "      return width, height, angle\n",
        "      \n",
        "  else: return print(\"There is no network node with the given code name!\")"
      ],
      "execution_count": null,
      "outputs": []
    },
    {
      "cell_type": "code",
      "metadata": {
        "colab": {
          "base_uri": "https://localhost:8080/",
          "height": 621
        },
        "id": "RU1BoyOzOzrY",
        "outputId": "ebb6f01f-d83d-42fe-b673-9f850f1bfd83"
      },
      "source": [
        "#Graphical representation of the error ellipses. \n",
        "\n",
        "fig=plt.figure(figsize=(15,10))\n",
        "ax = fig.add_subplot(111, aspect='equal')\n",
        "\n",
        "#Define plot options.\n",
        "scalefactor = 1000\n",
        "ld=1.5\n",
        "ellcolor = 'red'\n",
        "ellzorder = 4\n",
        "pointzorder = 5\n",
        "\n",
        "#Plot network edges.\n",
        "plt.plot(lines_x, lines_y, linewidth=0.6, markersize=8, alpha=1)\n",
        "\n",
        "#Plot network nodes.\n",
        "plt.scatter(x_hat, y_hat, marker=\"+\", zorder=pointzorder, s=70, c='black')\n",
        "\n",
        "#Plot nodenames.\n",
        "nodenames=[\"A\",\"B\",\"C\",\"D\",\"E\"]\n",
        "for i, txt in enumerate(nodenames):\n",
        "    ax.annotate(txt, (x_hat[i], y_hat[i]), xytext=(x_hat[i]+5,y_hat[i]+5), zorder=pointzorder)\n",
        "\n",
        "#Absolute error ellipses of all network nodes.\n",
        "width, height, angle = ellipse_args(0)\n",
        "ax.add_artist(Ellipse(xy=X_hat[:2], width=width*scalefactor, height=height*scalefactor, angle=angle, fill=None, alpha=1, linewidth=ld, color=ellcolor, zorder=ellzorder))\n",
        "width, height, angle = ellipse_args(1)\n",
        "ax.add_artist(Ellipse(xy=X_hat[2:4], width=width*scalefactor, height=height*scalefactor, angle=angle, fill=None, alpha=1, linewidth=ld, color=ellcolor, zorder=ellzorder))\n",
        "width, height, angle = ellipse_args(2)\n",
        "ax.add_artist(Ellipse(xy=X_hat[4:6], width=width*scalefactor, height=height*scalefactor, angle=angle, fill=None, alpha=1, linewidth=ld, color=ellcolor, zorder=ellzorder))\n",
        "width, height, angle = ellipse_args(3)\n",
        "ax.add_artist(Ellipse(xy=X_hat[6:8], width=width*scalefactor, height=height*scalefactor, angle=angle, fill=None, alpha=1, linewidth=ld, color=ellcolor, zorder=ellzorder))\n",
        "width, height, angle = ellipse_args(4)\n",
        "ax.add_artist(Ellipse(xy=X_hat[8:], width=width*scalefactor, height=height*scalefactor, angle=angle, fill=None, alpha=1, linewidth=ld, color=ellcolor, zorder=ellzorder))\n",
        "\n",
        "#Relative error ellipses between each station pair.\n",
        "\n",
        "#Edge AC.\n",
        "width, height, angle = ellipse_args(0,2)\n",
        "xy=(X_hat[:2]+X_hat[4:6])/2\n",
        "xx = np.array([x_hat[0],x_hat[2]])\n",
        "yy = np.array([y_hat[0],y_hat[2]])\n",
        "plt.plot(xx, yy, \"k--\", linewidth=2, markersize=4)\n",
        "plt.plot((x_hat[0]+x_hat[2])/2,(y_hat[0]+y_hat[2])/2, marker=\".\", color='red', mec=\"black\", markersize=12, zorder=pointzorder)\n",
        "ax.add_artist(Ellipse(xy=xy, width=width*scalefactor, height=height*scalefactor, angle=angle, fill=None, alpha=1, linewidth=ld, color=ellcolor, zorder=ellzorder))\n",
        "\n",
        "#Edge AB.\n",
        "width, height, angle = ellipse_args(0,1)\n",
        "xy=(X_hat[:2]+X_hat[2:4])/2\n",
        "xx = np.array([x_hat[0],x_hat[1]])\n",
        "yy = np.array([y_hat[0],y_hat[1]])\n",
        "plt.plot(xx, yy, \"k--\", linewidth=2, markersize=4)\n",
        "plt.plot((x_hat[1]+x_hat[0])/2,(y_hat[1]+y_hat[0])/2, marker=\".\", color='red', mec=\"black\", markersize=12, zorder=pointzorder)\n",
        "ax.add_artist(Ellipse(xy=xy, width=width*scalefactor, height=height*scalefactor, angle=angle, fill=None, alpha=1, linewidth=ld, color=ellcolor, zorder=ellzorder))\n",
        "\n",
        "#Edge DB.\n",
        "width, height, angle = ellipse_args(3,1)\n",
        "xy=(X_hat[6:8]+X_hat[2:4])/2\n",
        "xx = np.array([x_hat[3],x_hat[1]])\n",
        "yy = np.array([y_hat[3],y_hat[1]])\n",
        "plt.plot(xx, yy, \"k--\", linewidth=2, markersize=4)\n",
        "plt.plot((x_hat[3]+x_hat[1])/2,(y_hat[3]+y_hat[1])/2, marker=\".\", color='red', mec=\"black\", markersize=12, zorder=pointzorder)\n",
        "ax.add_artist(Ellipse(xy=xy, width=width*scalefactor, height=height*scalefactor, angle=angle, fill=None, alpha=1, linewidth=ld, color=ellcolor, zorder=ellzorder))\n",
        "\n",
        "#Edge EC.\n",
        "width, height, angle = ellipse_args(4,2)\n",
        "xy=(X_hat[8:]+X_hat[4:6])/2\n",
        "xx = np.array([x_hat[4],x_hat[2]])\n",
        "yy = np.array([y_hat[4],y_hat[2]])\n",
        "plt.plot(xx, yy, \"k--\", linewidth=2, markersize=4)\n",
        "plt.plot((x_hat[4]+x_hat[2])/2,(y_hat[4]+y_hat[2])/2, marker=\".\", color='red', mec=\"black\", markersize=12, zorder=pointzorder)\n",
        "ax.add_artist(Ellipse(xy=xy, width=width*scalefactor, height=height*scalefactor, angle=angle, fill=None, alpha=1, linewidth=ld, color=ellcolor, zorder=ellzorder))\n",
        "\n",
        "#Edge BC.\n",
        "width, height, angle = ellipse_args(1,2)\n",
        "xy=(X_hat[2:4]+X_hat[4:6])/2\n",
        "xx = np.array([x_hat[1],x_hat[2]])\n",
        "yy = np.array([y_hat[1],y_hat[2]])\n",
        "plt.plot(xx, yy, \"k--\", linewidth=2, markersize=4)\n",
        "plt.plot((x_hat[1]+x_hat[2])/2,(y_hat[1]+y_hat[2])/2, marker=\".\", color='red', mec=\"black\", markersize=12, zorder=pointzorder)\n",
        "ax.add_artist(Ellipse(xy=xy, width=width*scalefactor, height=height*scalefactor, angle=angle, fill=None, alpha=1, linewidth=ld, color=ellcolor, zorder=ellzorder))\n",
        "\n",
        "#Plot sog.\n",
        "sum_x,sum_y = 0,0\n",
        "for i,el in enumerate(X_hat):\n",
        "  if i%2==0: \n",
        "    sum_x += el \n",
        "  else: \n",
        "    sum_y += el \n",
        "\n",
        "x_mean = sum_x/v #sog x\n",
        "y_mean = sum_y/v #sog y\n",
        "plt.plot(x_mean, y_mean, marker=\".\", color='blue', mec=\"black\", markersize=12, zorder=pointzorder)    \n",
        "ax.annotate(\"Center of Gravity\", (x_mean, y_mean), xytext=(x_mean+5,y_mean+5), zorder=pointzorder)    \n",
        "\n",
        "plt.title(\"Absolute and Relative error ellipses - Minimum Internal Constraints\")\n",
        "plt.xlabel(\"X (m)\")\n",
        "plt.ylabel(\"Y (m)\")\n",
        "plt.show();"
      ],
      "execution_count": null,
      "outputs": [
        {
          "output_type": "display_data",
          "data": {
            "image/png": "[encoded data removed]",
            "text/plain": [
              "<Figure size 1080x720 with 1 Axes>"
            ]
          },
          "metadata": {
            "tags": [],
            "needs_background": "light"
          }
        }
      ]
    },
    {
      "cell_type": "code",
      "metadata": {
        "id": "UzWbP0TD3Dph"
      },
      "source": [
        "#Save the figure.\n",
        "formatype='png'\n",
        "fig.savefig(\"/content/sample_data/Error_Ellipses_Minimum_Internal_Constraints.\"+formatype, dpi=300, facecolor='w', edgecolor='w',\n",
        "        orientation='portrait', papertype=None, format=formatype,\n",
        "        transparent=False, bbox_inches=None, pad_inches=0.1,\n",
        "        metadata=None);"
      ],
      "execution_count": null,
      "outputs": []
    }
  ]
}