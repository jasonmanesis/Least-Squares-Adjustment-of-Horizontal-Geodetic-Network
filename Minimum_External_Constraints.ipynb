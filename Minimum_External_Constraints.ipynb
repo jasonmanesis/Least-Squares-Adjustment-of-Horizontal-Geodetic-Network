{
  "nbformat": 4,
  "nbformat_minor": 0,
  "metadata": {
    "colab": {
      "name": "Minimum_External_Constraints.ipynb",
      "provenance": [],
      "collapsed_sections": [
        "ctdPuQt8fQiW",
        "2pVAOHYdOmsL"
      ],
      "authorship_tag": "ABX9TyPLRChe+AoMr3XCRJYnT4NA",
      "include_colab_link": true
    },
    "kernelspec": {
      "name": "python3",
      "display_name": "Python 3"
    }
  },
  "cells": [
    {
      "cell_type": "markdown",
      "metadata": {
        "id": "view-in-github",
        "colab_type": "text"
      },
      "source": [
        "<a href=\"https://colab.research.google.com/github/JasonManesis/Least-Squares-Adjustment-of-Horizontal-Geodetic-Network/blob/main/Minimum_External_Constraints.ipynb\" target=\"_parent\"><img src=\"https://colab.research.google.com/assets/colab-badge.svg\" alt=\"Open In Colab\"/></a>"
      ]
    },
    {
      "cell_type": "markdown",
      "metadata": {
        "id": "ctdPuQt8fQiW"
      },
      "source": [
        "# Definition of the network properties. "
      ]
    },
    {
      "cell_type": "code",
      "metadata": {
        "id": "uWS4MpJN9R3X"
      },
      "source": [
        "#Import modules.\n",
        "import numpy as np\n",
        "import sympy as sp\n",
        "import sys\n",
        "from sympy import symbols, diff\n",
        "from numpy.linalg import multi_dot\n",
        "import math\n",
        "import pandas as pd\n",
        "import matplotlib.pyplot as plt\n",
        "from matplotlib.patches import Ellipse"
      ],
      "execution_count": 1,
      "outputs": []
    },
    {
      "cell_type": "code",
      "metadata": {
        "id": "IcRAPXAO9dje",
        "colab": {
          "base_uri": "https://localhost:8080/"
        },
        "outputId": "2bacd8d6-9e10-475f-fadf-ddfccdc4a48a"
      },
      "source": [
        "n = 16 #number of measuremens.\n",
        "v = 5 #number of network nodes.\n",
        "d = 3 #imperfections : position and orientation = 2+1 =3\n",
        "m = 2*v-d #number of unknown parameters.\n",
        "r = n - m #degrees of freedom.\n",
        "\n",
        "#Set numpy's print options.\n",
        "np.set_printoptions(suppress=True,threshold=np.inf,linewidth=300,precision=15) \n",
        "\n",
        "print(\"The design matrix A has dimensions of {}x{} elements\".format(n,m))\n",
        "print(\"The weight matrix P has dimensions of {}x{} elements\".format(n,n))\n",
        "\n",
        "#We assume that: \n",
        "# 0 = Α\n",
        "# 1 = B = constant and a_12 = a_BC = constant \n",
        "# 2 = C\n",
        "# 3 = D\n",
        "# 4 = E          "
      ],
      "execution_count": 2,
      "outputs": [
        {
          "output_type": "stream",
          "text": [
            "The design matrix A has dimensions of 16x7 elements\n",
            "The weight matrix P has dimensions of 16x16 elements\n"
          ],
          "name": "stdout"
        }
      ]
    },
    {
      "cell_type": "code",
      "metadata": {
        "id": "ty0uAm1V_NzI"
      },
      "source": [
        "#Matrices of measurements and standard errors.\n",
        "l = np.array([64.1902,50.8882,32.4675,60.7616,26.2679,43.1958,92.6467,29.5762,106.2276,116.6508,112.9705,64.1595,490.249,220.725,791.552,659.535]) #array which includes all measurements. (angles+lengths)\n",
        "noa = 12 #number of angles \n",
        "sigma_1 = np.array([25]*noa) #the standard error is in cc!\n",
        "sigma_2 = np.array([0.012]*(l.shape[0]-noa)) #the standard error is in meters!\n",
        "sigma = np.concatenate((sigma_1,sigma_2))"
      ],
      "execution_count": 3,
      "outputs": []
    },
    {
      "cell_type": "code",
      "metadata": {
        "id": "03aU0Nkog2LW",
        "colab": {
          "base_uri": "https://localhost:8080/"
        },
        "outputId": "a83b8a6b-a5be-4dfd-fed3-3dcbaaa01f63"
      },
      "source": [
        "#Temporary coordinates of network nodes.\n",
        "x = np.array([1586.537,2075.094,2222.679,1449.130,1688.320])\n",
        "y = np.array([937.235,896.541,354.801,522.664,741.395])\n",
        "\n",
        "#Temporary distance S12.\n",
        "S12 = np.sqrt((x[2]-x[1])**2+(y[2]-y[1])**2)\n",
        "\n",
        "#Matrix of unknown parameters Χ : xA,yΑ,xA,yΑ,xA,yΑ,SBC\n",
        "X=np.array([1586.537,  937.235, 1449.13 ,  522.664, 1688.320, 741.395, S12])  \n",
        "X  "
      ],
      "execution_count": 4,
      "outputs": [
        {
          "output_type": "execute_result",
          "data": {
            "text/plain": [
              "array([1586.537          ,  937.235          , 1449.13           ,  522.664          , 1688.32           ,  741.395          ,  561.4833566767585])"
            ]
          },
          "metadata": {
            "tags": []
          },
          "execution_count": 4
        }
      ]
    },
    {
      "cell_type": "code",
      "metadata": {
        "id": "wsDiy_msmxPc"
      },
      "source": [
        "#Create the necessary variables.\n",
        "b_jik, a_ik, a_ij = symbols(\"b_jik, a_ik, a_ij \")\n",
        "y_i,y_j,y_k = symbols(\"y_i,y_j,y_k\")\n",
        "x_i,x_j,x_k = symbols(\"x_i,x_j,x_k\")\n",
        "S_ij,S_ik = symbols(\"S_ij,S_ik\")\n",
        "dx_i,dx_j,dx_k = symbols(\"dx_i,dx_j,dx_k\")\n",
        "dy_i,dy_j,dy_k = symbols(\"dy_i,dy_j,dy_k\")\n",
        "\n",
        "#Auxiliary indices.\n",
        "jj = np.array([2,5,1,5,4,5,3,5,1,4,3,2,2,5,3,3])-1\n",
        "ii = np.array([1,1,4,4,3,3,2,2,5,5,5,5,1,1,4,5])-1\n",
        "kk = np.array([5,4,5,3,5,2,5,1,2,1,4,3])-1\n",
        "\n",
        "eqs = np.empty(shape=(n,), dtype=object)"
      ],
      "execution_count": 5,
      "outputs": []
    },
    {
      "cell_type": "code",
      "metadata": {
        "id": "uT9N79SIvUz4",
        "colab": {
          "base_uri": "https://localhost:8080/",
          "height": 68
        },
        "outputId": "0e81aab4-2219-40b5-dc74-c4902847f962"
      },
      "source": [
        "#Linearized angle equations.\n",
        "angle_eq = ((y_j-y_i)/S_ij**2 - (y_k-y_i)/S_ik**2)*dx_i + ((x_k-x_i)/S_ik**2 - (x_j-x_i)/S_ij**2)*dy_i - dx_j*(y_j-y_i)/S_ij**2 + dy_j*(x_j-x_i)/S_ij**2 + dx_k*(y_k-y_i)/S_ik**2 - dy_k*(x_k-x_i)/S_ik**2\n",
        "angle_eq"
      ],
      "execution_count": 6,
      "outputs": [
        {
          "output_type": "execute_result",
          "data": {
            "text/latex": "$\\displaystyle dx_{i} \\left(- \\frac{- y_{i} + y_{k}}{S_{ik}^{2}} + \\frac{- y_{i} + y_{j}}{S_{ij}^{2}}\\right) + dy_{i} \\left(\\frac{- x_{i} + x_{k}}{S_{ik}^{2}} - \\frac{- x_{i} + x_{j}}{S_{ij}^{2}}\\right) + \\frac{dx_{k} \\left(- y_{i} + y_{k}\\right)}{S_{ik}^{2}} - \\frac{dy_{k} \\left(- x_{i} + x_{k}\\right)}{S_{ik}^{2}} - \\frac{dx_{j} \\left(- y_{i} + y_{j}\\right)}{S_{ij}^{2}} + \\frac{dy_{j} \\left(- x_{i} + x_{j}\\right)}{S_{ij}^{2}}$",
            "text/plain": [
              "dx_i*(-(-y_i + y_k)/S_ik**2 + (-y_i + y_j)/S_ij**2) + dy_i*((-x_i + x_k)/S_ik**2 - (-x_i + x_j)/S_ij**2) + dx_k*(-y_i + y_k)/S_ik**2 - dy_k*(-x_i + x_k)/S_ik**2 - dx_j*(-y_i + y_j)/S_ij**2 + dy_j*(-x_i + x_j)/S_ij**2"
            ]
          },
          "metadata": {
            "tags": []
          },
          "execution_count": 6
        }
      ]
    },
    {
      "cell_type": "code",
      "metadata": {
        "id": "gm7KxSNR9qjZ",
        "colab": {
          "base_uri": "https://localhost:8080/",
          "height": 58
        },
        "outputId": "964aa505-fef7-4b86-9e5d-3fea2c7c9d02"
      },
      "source": [
        "#Linearized distance equations.\n",
        "dist_eq = -(x_j-x_i)/S_ij*dx_i-dy_i*(y_j-y_i)/S_ij+(x_j-x_i)/S_ij*dx_j+dy_j*(y_j-y_i)/S_ij\n",
        "dist_eq"
      ],
      "execution_count": 7,
      "outputs": [
        {
          "output_type": "execute_result",
          "data": {
            "text/latex": "$\\displaystyle \\frac{dx_{i} \\left(x_{i} - x_{j}\\right)}{S_{ij}} + \\frac{dx_{j} \\left(- x_{i} + x_{j}\\right)}{S_{ij}} - \\frac{dy_{i} \\left(- y_{i} + y_{j}\\right)}{S_{ij}} + \\frac{dy_{j} \\left(- y_{i} + y_{j}\\right)}{S_{ij}}$",
            "text/plain": [
              "dx_i*(x_i - x_j)/S_ij + dx_j*(-x_i + x_j)/S_ij - dy_i*(-y_i + y_j)/S_ij + dy_j*(-y_i + y_j)/S_ij"
            ]
          },
          "metadata": {
            "tags": []
          },
          "execution_count": 7
        }
      ]
    },
    {
      "cell_type": "code",
      "metadata": {
        "id": "meduNLFPwMkg"
      },
      "source": [
        "def finda(dx,dy,a):\n",
        "  '''This function calculates the true value of an azimuth angle'''\n",
        "  if dx>0:\n",
        "    if dy>0:return 200*a/math.pi \n",
        "    if dy==0:return 100\n",
        "    if dy<0:return 200+200*a/math.pi\n",
        "  if dx<0:\n",
        "    if dy>0:return 400+200*a/math.pi \n",
        "    if dy==0:return 300\n",
        "    if dy<0:return 200+200*a/math.pi  \n",
        "  if dx==0:\n",
        "    if dy>0:return 0\n",
        "    if dy==0:return print(\"Division by 0!\")\n",
        "    if dy<0:return 200     "
      ],
      "execution_count": 8,
      "outputs": []
    },
    {
      "cell_type": "markdown",
      "metadata": {
        "id": "Ehz8ivsd63wW"
      },
      "source": [
        "# Creation of design matrix Α."
      ]
    },
    {
      "cell_type": "code",
      "metadata": {
        "id": "RNfaefvJ3c5e",
        "colab": {
          "base_uri": "https://localhost:8080/"
        },
        "outputId": "c13e4127-ca34-4431-f9ab-91446f59cbd2"
      },
      "source": [
        "#Create auxiliary vector.\n",
        "dx_0,dy_0,dx_1,dy_1,dx_2,dy_2,dx_3,dy_3,dx_4,dy_4,dS_12 = symbols('dx_0,dy_0,dx_1,dy_1,dx_2,dy_2,dx_3,dy_3,dx_4,dy_4,dS_12')\n",
        "\n",
        "DX = [dx_0,dy_0,\n",
        "      dx_3,dy_3,\n",
        "      dx_4,dy_4,\n",
        "      dS_12]\n",
        "DX "
      ],
      "execution_count": 9,
      "outputs": [
        {
          "output_type": "execute_result",
          "data": {
            "text/plain": [
              "[dx_0, dy_0, dx_3, dy_3, dx_4, dy_4, dS_12]"
            ]
          },
          "metadata": {
            "tags": []
          },
          "execution_count": 9
        }
      ]
    },
    {
      "cell_type": "code",
      "metadata": {
        "id": "uHcl-UDkvUrt"
      },
      "source": [
        "#Construction of the 16 observation equations.\n",
        "for i in range(eqs.shape[0]):\n",
        "  Sij = np.sqrt((x[jj[i]]-x[ii[i]])**2)+np.sqrt((y[jj[i]]-y[ii[i]])**2)\n",
        "  if i<=noa-1:\n",
        "    Sik = np.sqrt((x[kk[i]]-x[ii[i]])**2)+np.sqrt((y[kk[i]]-y[ii[i]])**2)\n",
        "    eqs[i]=angle_eq.subs([(x_i,x[ii[i]]),(x_j,x[jj[i]]),(x_k,x[kk[i]]),(y_i,y[ii[i]]),(y_j,y[jj[i]]),(y_k,y[kk[i]]),(S_ij,Sij),(S_ik,Sik),\n",
        "                        (dx_i,symbols('dx_{}'.format(ii[i]))),\n",
        "                        (dx_j,symbols('dx_{}'.format(jj[i]))),\n",
        "                        (dx_k,symbols('dx_{}'.format(kk[i]))),\n",
        "                        (dy_i,symbols('dy_{}'.format(ii[i]))),\n",
        "                        (dy_j,symbols('dy_{}'.format(jj[i]))),\n",
        "                        (dy_k,symbols('dy_{}'.format(kk[i])))\n",
        "                        ])*636620\n",
        "  else:\n",
        "    eqs[i] = dist_eq.subs([(x_i,x[ii[i]]),(x_j,x[jj[i]]),(y_i,y[ii[i]]),(y_j,y[jj[i]]),(S_ij,Sij),\n",
        "                        (dx_i,symbols('dx_{}'.format(ii[i]))),\n",
        "                        (dx_j,symbols('dx_{}'.format(jj[i]))),\n",
        "                        (dy_i,symbols('dy_{}'.format(ii[i]))),\n",
        "                        (dy_j,symbols('dy_{}'.format(jj[i]))),\n",
        "                                                ])"
      ],
      "execution_count": 10,
      "outputs": []
    },
    {
      "cell_type": "code",
      "metadata": {
        "id": "CnedeOFCzxiD"
      },
      "source": [
        "#Calculate the true value of the azimuth angle a_BC = a_12.\n",
        "a = math.atan((x[2]-x[1])/(y[2]-y[1]))\n",
        "a_12 = finda(x[2]-x[1],y[2]-y[1],a)"
      ],
      "execution_count": 11,
      "outputs": []
    },
    {
      "cell_type": "code",
      "metadata": {
        "id": "tAukoQbfxo8W"
      },
      "source": [
        "#Replace the variables with their true values.\n",
        "for i,eq in enumerate(eqs):\n",
        "  eqs[i]=eq.subs([(dx_1,x[1]),(dy_1,x[2])])\n",
        "  eqs[i]=eq.subs([(dx_2,dS_12*math.sin(a_12*math.pi/200)),(dy_2,dS_12*math.cos(a_12*math.pi/200))])"
      ],
      "execution_count": 12,
      "outputs": []
    },
    {
      "cell_type": "code",
      "metadata": {
        "colab": {
          "base_uri": "https://localhost:8080/"
        },
        "id": "4Sc-n_PuvUJv",
        "outputId": "174df2e9-303b-4065-c557-b96787861de2"
      },
      "source": [
        "#Differentiation of each equation with each one of the unknown parameters and creation of design matrix Α.         \n",
        "A = np.zeros(shape=(n,m))\n",
        "for i in range(0,n):\n",
        "  for j in range(0,m):\n",
        "      A[i,j] = diff(eqs[i],DX[j])\n",
        "print('Array A is:\\n')\n",
        "print(A)  "
      ],
      "execution_count": 13,
      "outputs": [
        {
          "output_type": "stream",
          "text": [
            "Array A is:\n",
            "\n",
            "[[ 1315.0125528590386    -378.8674748570014       0.                    0.                -1407.5009566940464    -731.5138371894911       0.               ]\n",
            " [ -541.2660903543328   -1018.6220388706048    -866.2348663397134     287.1082016811136    1407.5009566940464     731.5138371894911       0.               ]\n",
            " [ -866.2348663397134     287.1082016811136     202.17154110731892    439.06827427490697    664.0633252323945    -726.1764759560206       0.               ]\n",
            " [    0.                    0.                  784.643469445205     -170.51709910897642   -664.0633252323945     726.1764759560206     504.42651035250844 ]\n",
            " [    0.                    0.                 -120.58014421281054   -555.6593768470442     290.1753078147618     401.0868955767248    -193.7150886668107  ]\n",
            " [    0.                    0.                    0.                    0.                 -290.1753078147618    -401.0868955767248    -310.7114216856977  ]\n",
            " [    0.                    0.                    0.                    0.                 -336.3183027558783     838.4307376928961       0.000000000000028]\n",
            " [   92.48840383500784   1110.3813120464927       0.                    0.                  336.3183027558783    -838.4307376928961       0.               ]\n",
            " [-1407.5009566940464    -731.5138371894911       0.                    0.                 1071.182653938168     1569.944574882387        0.               ]\n",
            " [ 1407.5009566940464     731.5138371894911     664.0633252323945    -726.1764759560206   -2071.564281926441       -5.337361233470615     0.               ]\n",
            " [    0.                    0.                 -664.0633252323945     726.1764759560206     373.8880174176327   -1127.2633715327454    -310.7114216856976  ]\n",
            " [    0.                    0.                    0.                    0.                  626.4936105706402    -437.3438421161712     310.7114216856976  ]\n",
            " [   -0.92311020668832      0.07688979331168      0.                    0.                    0.                    0.                    0.               ]\n",
            " [   -0.341986338421426     0.658013661578575     0.                    0.                    0.341986338421426    -0.658013661578575     0.               ]\n",
            " [    0.                    0.                   -0.821690184531321     0.178309815468679     0.                    0.                    0.388019881133327]\n",
            " [    0.                    0.                    0.                    0.                   -0.58022396365504      0.41977603634496      0.557526451822798]]\n"
          ],
          "name": "stdout"
        }
      ]
    },
    {
      "cell_type": "markdown",
      "metadata": {
        "id": "zAJXRpbH7BBv"
      },
      "source": [
        "# Creation of matrix of the calculated values. "
      ]
    },
    {
      "cell_type": "code",
      "metadata": {
        "id": "XRtJUBtU2gkl",
        "colab": {
          "base_uri": "https://localhost:8080/"
        },
        "outputId": "019cf818-4b69-48ee-a673-e259376123f9"
      },
      "source": [
        "#Creation of matrix of the calculated values.\n",
        "delta_l = np.zeros(shape=(n,))\n",
        "\n",
        "for i in range(n):\n",
        "\n",
        "  if i<=noa-1: #If its a angle equation.\n",
        "    \n",
        "    div1 = (x_k-x_i)/(y_k-y_i)\n",
        "    div2 = (x_j-x_i)/(y_j-y_i)\n",
        "\n",
        "    d1=float(div1.subs([(x_i,x[ii[i]]),(x_j,x[jj[i]]),(x_k,x[kk[i]]),(y_i,y[ii[i]]),(y_j,y[jj[i]]),(y_k,y[kk[i]])]))\n",
        "    d2=float(div2.subs([(x_i,x[ii[i]]),(x_j,x[jj[i]]),(y_i,y[ii[i]]),(y_j,y[jj[i]]),(y_k,y[kk[i]])]))\n",
        "\n",
        "    aik_ = np.arctan(d1)\n",
        "    aij_ = np.arctan(d2)\n",
        "\n",
        "    #Azimuth angle calculation.\n",
        "    deltaX = x_k-x_i\n",
        "    deltaY = y_k-y_i\n",
        "    deltaX = float(deltaX.subs([(x_i,x[ii[i]]),(x_j,x[jj[i]]),(x_k,x[kk[i]]),(y_i,y[ii[i]]),(y_j,y[jj[i]]),(y_k,y[kk[i]])]))\n",
        "    deltaY = float(deltaY.subs([(x_i,x[ii[i]]),(x_j,x[jj[i]]),(x_k,x[kk[i]]),(y_i,y[ii[i]]),(y_j,y[jj[i]]),(y_k,y[kk[i]])]))\n",
        "    aik=finda(deltaX,deltaY,aik_)\n",
        "\n",
        "    deltaX = x_j-x_i\n",
        "    deltaY = y_j-y_i\n",
        "    deltaX = float(deltaX.subs([(x_i,x[ii[i]]),(x_j,x[jj[i]]),(x_k,x[kk[i]]),(y_i,y[ii[i]]),(y_j,y[jj[i]]),(y_k,y[kk[i]])]))\n",
        "    deltaY = float(deltaY.subs([(x_i,x[ii[i]]),(x_j,x[jj[i]]),(x_k,x[kk[i]]),(y_i,y[ii[i]]),(y_j,y[jj[i]]),(y_k,y[kk[i]])]))\n",
        "    aij=finda(deltaX,deltaY,aij_)\n",
        "\n",
        "    delta_l[i]=(l[i]-aik+aij) #in cc\n",
        "    while delta_l[i]>399: delta_l[i]-=400\n",
        "    delta_l[i]=delta_l[i]*10000 #convertion from grad to cc.\n",
        "\n",
        "  else: #If its a distance equation.\n",
        "    \n",
        "    Sij = np.sqrt((x[jj[i]]-x[ii[i]])**2+(y[jj[i]]-y[ii[i]])**2) #distance calculation.\n",
        "    delta_l[i]=l[i]-Sij #in meters \n",
        "\n",
        "delta_l    "
      ],
      "execution_count": 14,
      "outputs": [
        {
          "output_type": "execute_result",
          "data": {
            "text/plain": [
              "array([-59.5602269456208  ,  -1.328985675570493,   0.54263166884283 ,   0.376205193788337,  -0.273873615697084,   0.715280497161075,   0.054504408808498,   0.47446446842514 ,  -0.91423752337505 ,  65.78635400671828 ,  -0.102331578091253,  19.23021509455225 ,   0.000140863132685,\n",
              "         0.014590891140813,  -0.000930744369043,  -0.006099338775243])"
            ]
          },
          "metadata": {
            "tags": []
          },
          "execution_count": 14
        }
      ]
    },
    {
      "cell_type": "markdown",
      "metadata": {
        "id": "SAVJkO3QQyuz"
      },
      "source": [
        "\n",
        "# Creation of the weight matrix P."
      ]
    },
    {
      "cell_type": "code",
      "metadata": {
        "colab": {
          "base_uri": "https://localhost:8080/"
        },
        "id": "VgLGep8P2E4x",
        "outputId": "e6f7a815-30cb-4bce-f861-dc95a901bce8"
      },
      "source": [
        "#Define the a-priori standard error.\n",
        "sigma_0 = 1 \n",
        "\n",
        "I = np.identity(n)\n",
        "P = I*(sigma_0/sigma)**2\n",
        "\n",
        "print('Array P is:\\n')\n",
        "print(P)"
      ],
      "execution_count": 15,
      "outputs": [
        {
          "output_type": "stream",
          "text": [
            "Array P is:\n",
            "\n",
            "[[   0.0016            0.                0.                0.                0.                0.                0.                0.                0.                0.                0.                0.                0.                0.                0.                0.            ]\n",
            " [   0.                0.0016            0.                0.                0.                0.                0.                0.                0.                0.                0.                0.                0.                0.                0.                0.            ]\n",
            " [   0.                0.                0.0016            0.                0.                0.                0.                0.                0.                0.                0.                0.                0.                0.                0.                0.            ]\n",
            " [   0.                0.                0.                0.0016            0.                0.                0.                0.                0.                0.                0.                0.                0.                0.                0.                0.            ]\n",
            " [   0.                0.                0.                0.                0.0016            0.                0.                0.                0.                0.                0.                0.                0.                0.                0.                0.            ]\n",
            " [   0.                0.                0.                0.                0.                0.0016            0.                0.                0.                0.                0.                0.                0.                0.                0.                0.            ]\n",
            " [   0.                0.                0.                0.                0.                0.                0.0016            0.                0.                0.                0.                0.                0.                0.                0.                0.            ]\n",
            " [   0.                0.                0.                0.                0.                0.                0.                0.0016            0.                0.                0.                0.                0.                0.                0.                0.            ]\n",
            " [   0.                0.                0.                0.                0.                0.                0.                0.                0.0016            0.                0.                0.                0.                0.                0.                0.            ]\n",
            " [   0.                0.                0.                0.                0.                0.                0.                0.                0.                0.0016            0.                0.                0.                0.                0.                0.            ]\n",
            " [   0.                0.                0.                0.                0.                0.                0.                0.                0.                0.                0.0016            0.                0.                0.                0.                0.            ]\n",
            " [   0.                0.                0.                0.                0.                0.                0.                0.                0.                0.                0.                0.0016            0.                0.                0.                0.            ]\n",
            " [   0.                0.                0.                0.                0.                0.                0.                0.                0.                0.                0.                0.             6944.444444444443    0.                0.                0.            ]\n",
            " [   0.                0.                0.                0.                0.                0.                0.                0.                0.                0.                0.                0.                0.             6944.444444444443    0.                0.            ]\n",
            " [   0.                0.                0.                0.                0.                0.                0.                0.                0.                0.                0.                0.                0.                0.             6944.444444444443    0.            ]\n",
            " [   0.                0.                0.                0.                0.                0.                0.                0.                0.                0.                0.                0.                0.                0.                0.             6944.444444444443]]\n"
          ],
          "name": "stdout"
        }
      ]
    },
    {
      "cell_type": "markdown",
      "metadata": {
        "id": "GY_AoBItQYmh"
      },
      "source": [
        "#System solution."
      ]
    },
    {
      "cell_type": "code",
      "metadata": {
        "id": "EHuBHjJc7lg_",
        "colab": {
          "base_uri": "https://localhost:8080/"
        },
        "outputId": "0f6222bd-38e0-476a-8bd3-c6eaaefb8819"
      },
      "source": [
        "#Calculate the new array with the adjusted coordinate values of network nodes A,D,E and distance SBC.\n",
        "delta_x=np.dot(np.linalg.inv(multi_dot([A.T,P,A])),multi_dot([A.T,P,delta_l]))\n",
        "X_hat = X+delta_x\n",
        "X_hat"
      ],
      "execution_count": 16,
      "outputs": [
        {
          "output_type": "execute_result",
          "data": {
            "text/plain": [
              "array([1586.5398563952517,  937.268154332407 , 1449.1259086730727,  522.6498289885703, 1688.3261710305887,  741.4083775091273,  561.4740755472986])"
            ]
          },
          "metadata": {
            "tags": []
          },
          "execution_count": 16
        }
      ]
    },
    {
      "cell_type": "code",
      "metadata": {
        "id": "8Zff5KmeItMJ"
      },
      "source": [
        "#Points Β=1 και C=2.\n",
        "x_1 = x[1]\n",
        "y_1 = y[1]\n",
        "\n",
        "#Calculate the final coordinates of the node C=2.\n",
        "\n",
        "#With:\n",
        "# x_2 = X_hat[-1]*math.sin(a_12*math.pi/200) + x[1]\n",
        "# y_2 = X_hat[-1]*math.cos(a_12*math.pi/200) + y[1]\n",
        "\n",
        "#Or:\n",
        "x_2 = delta_x[-1]*math.sin(a_12*math.pi/200) + x[2]\n",
        "y_2 = delta_x[-1]*math.cos(a_12*math.pi/200) + y[2]"
      ],
      "execution_count": 17,
      "outputs": []
    },
    {
      "cell_type": "code",
      "metadata": {
        "colab": {
          "base_uri": "https://localhost:8080/"
        },
        "id": "jx_E1zeuWt7f",
        "outputId": "05a85126-2211-41d7-af0c-dd177c786177"
      },
      "source": [
        "#Create a new array with the adjusted coordinate values of all network nodes.\n",
        "X_hat_extended = np.array([X_hat[0], X_hat[1], x_1,y_1,x_2,y_2, X_hat[2], X_hat[3],  X_hat[4], X_hat[5]])\n",
        "X_hat_extended"
      ],
      "execution_count": 18,
      "outputs": [
        {
          "output_type": "execute_result",
          "data": {
            "text/plain": [
              "array([1586.5398563952517,  937.268154332407 , 2075.094          ,  896.541          , 2222.676560470003 ,  354.8099547784699, 1449.1259086730727,  522.6498289885703, 1688.3261710305887,  741.4083775091273])"
            ]
          },
          "metadata": {
            "tags": []
          },
          "execution_count": 18
        }
      ]
    },
    {
      "cell_type": "markdown",
      "metadata": {
        "id": "La78YVjaggGI"
      },
      "source": [
        "#Calculation of the a-priori variance-covariance matrix.\n",
        "\n"
      ]
    },
    {
      "cell_type": "code",
      "metadata": {
        "id": "nyPDbQP5hViW",
        "colab": {
          "base_uri": "https://localhost:8080/"
        },
        "outputId": "ed231627-e0a4-44cd-eb08-245b8561804a"
      },
      "source": [
        "#Define the a-priori standard error.\n",
        "sigma_0 = 1 \n",
        "\n",
        "#Calculate the a-priori variance-covariance matrix.\n",
        "V_x_hat = (sigma_0**2)*np.linalg.inv(multi_dot([A.T,P,A]))\n",
        "\n",
        "V_x_hat"
      ],
      "execution_count": 19,
      "outputs": [
        {
          "output_type": "execute_result",
          "data": {
            "text/plain": [
              "array([[ 0.000149225782628,  0.000089128015268,  0.00003943599029 ,  0.000143785484287,  0.000088839903659,  0.000085787304437,  0.000007578553423],\n",
              "       [ 0.000089128015268,  0.00040034358534 , -0.000049529880227,  0.000382645652888,  0.000003153009971,  0.000276669530492, -0.000202752323251],\n",
              "       [ 0.00003943599029 , -0.000049529880227,  0.000231870066259,  0.000139662398354,  0.000063906361852, -0.000025192174508,  0.000119084479721],\n",
              "       [ 0.000143785484287,  0.000382645652888,  0.000139662398354,  0.00111408479694 , -0.00005993074636 ,  0.000369278086524, -0.000273087774062],\n",
              "       [ 0.000088839903659,  0.000003153009971,  0.000063906361852, -0.00005993074636 ,  0.000143251462787, -0.000005787026201,  0.000114834167512],\n",
              "       [ 0.000085787304437,  0.000276669530492, -0.000025192174508,  0.000369278086524, -0.000005787026201,  0.000277722443448, -0.000201409020039],\n",
              "       [ 0.000007578553423, -0.000202752323251,  0.000119084479721, -0.000273087774062,  0.000114834167512, -0.000201409020039,  0.000487341553774]])"
            ]
          },
          "metadata": {
            "tags": []
          },
          "execution_count": 19
        }
      ]
    },
    {
      "cell_type": "markdown",
      "metadata": {
        "id": "I0sqriRYkUU1"
      },
      "source": [
        "#Computation of the a posteriori standard error."
      ]
    },
    {
      "cell_type": "code",
      "metadata": {
        "id": "Y1MtYUUqlWy5",
        "colab": {
          "base_uri": "https://localhost:8080/"
        },
        "outputId": "ae91667f-c22b-468a-c354-9feadebfb8bd"
      },
      "source": [
        "#Calculation of the a-posteriori standard error.\n",
        "u = np.dot(A,delta_x)-delta_l\n",
        "sigma_0_hat = np.sqrt(multi_dot([u.T,P,u])/(n-m))\n",
        "sigma_0_hat"
      ],
      "execution_count": 20,
      "outputs": [
        {
          "output_type": "execute_result",
          "data": {
            "text/plain": [
              "0.9684956769038704"
            ]
          },
          "metadata": {
            "tags": []
          },
          "execution_count": 20
        }
      ]
    },
    {
      "cell_type": "code",
      "metadata": {
        "colab": {
          "base_uri": "https://localhost:8080/"
        },
        "id": "AcXAXUR1kSgg",
        "outputId": "c13a4e08-08fa-4262-a85a-622efe0ef29d"
      },
      "source": [
        "#Create the necessary auxiliary variables and vectors.\n",
        "x_0,y_0,x_1,y_1,x_2,y_2,x_3,y_3,x_4,y_4,S_12 = symbols('x_0,y_0,x_1,y_1,x_2,y_2,x_3,y_3,x_4,y_4,S_12')\n",
        "DX_1 = np.array([x_0,y_0,x_3,y_3,x_4,y_4,S_12*math.sin(a_12*math.pi/200),S_12*math.cos(a_12*math.pi/200),x_1,y_1])\n",
        "DX_2 = np.array([x_0,y_0,x_3,y_3,x_4,y_4,S_12])\n",
        "\n",
        "#Calculation of the necessary Jacobian matrix for the propagation of uncertainty between the two vectors DX_1, DX_2.\n",
        "J = np.zeros(shape=(2*v,V_x_hat.shape[0]))\n",
        "for i in range(0,2*v):\n",
        "  for j in range(V_x_hat.shape[0]):\n",
        "      J[i,j] = diff(DX_1[i],DX_2[j])\n",
        "print('Array J is:\\n')\n",
        "print(J) "
      ],
      "execution_count": 21,
      "outputs": [
        {
          "output_type": "stream",
          "text": [
            "Array J is:\n",
            "\n",
            "[[ 1.                 0.                 0.                 0.                 0.                 0.                 0.               ]\n",
            " [ 0.                 1.                 0.                 0.                 0.                 0.                 0.               ]\n",
            " [ 0.                 0.                 1.                 0.                 0.                 0.                 0.               ]\n",
            " [ 0.                 0.                 0.                 1.                 0.                 0.                 0.               ]\n",
            " [ 0.                 0.                 0.                 0.                 1.                 0.                 0.               ]\n",
            " [ 0.                 0.                 0.                 0.                 0.                 1.                 0.               ]\n",
            " [ 0.                 0.                 0.                 0.                 0.                 0.                 0.262848396564252]\n",
            " [ 0.                 0.                 0.                 0.                 0.                 0.                -0.964837147099759]\n",
            " [ 0.                 0.                 0.                 0.                 0.                 0.                 0.               ]\n",
            " [ 0.                 0.                 0.                 0.                 0.                 0.                 0.               ]]\n"
          ],
          "name": "stdout"
        }
      ]
    },
    {
      "cell_type": "code",
      "metadata": {
        "id": "zunF4ysrszSE",
        "colab": {
          "base_uri": "https://localhost:8080/"
        },
        "outputId": "f684a6be-cd0e-4df3-b447-e0b52587ee3d"
      },
      "source": [
        "#Calculation of the a-priori variance-covariance matrix of the coordinates of all network nodes.\n",
        "V_x_hat_extended = multi_dot([J,V_x_hat,J.T])\n",
        "V_x_hat_extended_df = pd.DataFrame(V_x_hat_extended,index=[\"0\",\"00\",\"3\",\"33\",\"4\",\"44\",\"2\",\"22\",\"1\",\"11\"], columns=[\"0\",\"00\",\"3\",\"33\",\"4\",\"44\",\"2\",\"22\",\"1\",\"11\"])\n",
        "V_x_hat_extended_df=V_x_hat_extended_df.sort_index()\n",
        "V_x_hat_extended_df=V_x_hat_extended_df.reindex(sorted(V_x_hat_extended_df.columns), axis=1)\n",
        "V_x_hat_extended = np.array(V_x_hat_extended_df)\n",
        "V_x_hat_extended"
      ],
      "execution_count": 22,
      "outputs": [
        {
          "output_type": "execute_result",
          "data": {
            "text/plain": [
              "array([[ 0.000149225782628,  0.000089128015268,  0.               ,  0.               ,  0.000001992010615, -0.000007312069863,  0.00003943599029 ,  0.000143785484287,  0.000088839903659,  0.000085787304437],\n",
              "       [ 0.000089128015268,  0.00040034358534 ,  0.               ,  0.               , -0.000053293123066,  0.000195622973133, -0.000049529880227,  0.000382645652888,  0.000003153009971,  0.000276669530492],\n",
              "       [ 0.               ,  0.               ,  0.               ,  0.               ,  0.               ,  0.               ,  0.               ,  0.               ,  0.               ,  0.               ],\n",
              "       [ 0.               ,  0.               ,  0.               ,  0.               ,  0.               ,  0.               ,  0.               ,  0.               ,  0.               ,  0.               ],\n",
              "       [ 0.000001992010615, -0.000053293123066,  0.               ,  0.               ,  0.000033670076858, -0.00012359269192 ,  0.00003130116455 , -0.000071780683533,  0.000030183976801, -0.000052940037971],\n",
              "       [-0.000007312069863,  0.000195622973133,  0.               ,  0.               , -0.00012359269192 ,  0.000453671476917, -0.000114897129678,  0.000263485228834, -0.000110796270571,  0.000194326904295],\n",
              "       [ 0.00003943599029 , -0.000049529880227,  0.               ,  0.               ,  0.00003130116455 , -0.000114897129678,  0.000231870066259,  0.000139662398354,  0.000063906361852, -0.000025192174508],\n",
              "       [ 0.000143785484287,  0.000382645652888,  0.               ,  0.               , -0.000071780683533,  0.000263485228834,  0.000139662398354,  0.00111408479694 , -0.00005993074636 ,  0.000369278086524],\n",
              "       [ 0.000088839903659,  0.000003153009971,  0.               ,  0.               ,  0.000030183976801, -0.000110796270571,  0.000063906361852, -0.00005993074636 ,  0.000143251462787, -0.000005787026201],\n",
              "       [ 0.000085787304437,  0.000276669530492,  0.               ,  0.               , -0.000052940037971,  0.000194326904295, -0.000025192174508,  0.000369278086524, -0.000005787026201,  0.000277722443448]])"
            ]
          },
          "metadata": {
            "tags": []
          },
          "execution_count": 22
        }
      ]
    },
    {
      "cell_type": "markdown",
      "metadata": {
        "id": "2pVAOHYdOmsL"
      },
      "source": [
        "#Graphical representation of the error ellipses."
      ]
    },
    {
      "cell_type": "code",
      "metadata": {
        "id": "GDD0wN9yPKWH",
        "colab": {
          "base_uri": "https://localhost:8080/"
        },
        "outputId": "6f5517c7-4fb2-46d6-b8ba-f285657ae0be"
      },
      "source": [
        "#Final coordinates of network nodes.\n",
        "x_hat = np.zeros(shape=(v,))\n",
        "y_hat = np.zeros(shape=(v,))\n",
        "\n",
        "j=0\n",
        "for i in range(0,v):\n",
        "  x_hat[i] = X_hat_extended[j]\n",
        "  y_hat[i] = X_hat_extended[j+1]\n",
        "  if j%2==0:j+=2\n",
        "\n",
        "#Network edges.\n",
        "lines_x = np.concatenate((x_hat,np.array([x_hat[0],x_hat[4],x_hat[1],x_hat[4],x_hat[2],x_hat[4],x_hat[3],x_hat[4],x_hat[0],x_hat[3]])))\n",
        "lines_y = np.concatenate((y_hat,np.array([y_hat[0],y_hat[4],y_hat[1],y_hat[4],y_hat[2],y_hat[4],y_hat[3],y_hat[4],y_hat[0],y_hat[3]])))\n",
        "X_hat_extended"
      ],
      "execution_count": 23,
      "outputs": [
        {
          "output_type": "execute_result",
          "data": {
            "text/plain": [
              "array([1586.5398563952517,  937.268154332407 , 2075.094          ,  896.541          , 2222.676560470003 ,  354.8099547784699, 1449.1259086730727,  522.6498289885703, 1688.3261710305887,  741.4083775091273])"
            ]
          },
          "metadata": {
            "tags": []
          },
          "execution_count": 23
        }
      ]
    },
    {
      "cell_type": "code",
      "metadata": {
        "id": "8lNbfu2xGOyA"
      },
      "source": [
        "def auxfunc(V_xy):\n",
        "\n",
        "  '''This function takes as argument the variance-covariance submatrix of the corresponding \n",
        "  network node or edge, and as output it returns the absolute or relative ellipse properties.'''\n",
        "\n",
        "  width, height, angle =0,0,0\n",
        "  \n",
        "  if (V_xy[0,1]+V_xy[0,0]-V_xy[1,1])!=0: \n",
        "\n",
        "    #Define equations for the calculation of the semi-major axis, the semi-minor axis and the orientation of the error ellipse. \n",
        "    sigma_x_sq,sigma_y_sq,sigma_xy = symbols('sigma_x_sq,sigma_y_sq,sigma_xy')\n",
        "    sigma_max_squared = ((sigma_x_sq+sigma_y_sq)+((sigma_x_sq-sigma_y_sq)**2+4*sigma_xy**2)**0.5)/2\n",
        "    sigma_min_squared = ((sigma_x_sq+sigma_y_sq)-((sigma_x_sq-sigma_y_sq)**2+4*sigma_xy**2)**0.5)/2\n",
        "    tan_2theta = 2*sigma_xy/(sigma_x_sq-sigma_y_sq)\n",
        "\n",
        "    #Calculate the length of the semi-major and the semi-minor ellipse axes.\n",
        "    sigma_max_squared = sigma_max_squared.subs([(sigma_x_sq,V_xy[0,0]),(sigma_y_sq,V_xy[1,1]),(sigma_xy,V_xy[0,1])])\n",
        "    sigma_min_squared = sigma_min_squared.subs([(sigma_x_sq,V_xy[0,0]),(sigma_y_sq,V_xy[1,1]),(sigma_xy,V_xy[0,1])])\n",
        "    sigma_u=sigma_max_squared**0.5\n",
        "    sigma_v=sigma_min_squared**0.5\n",
        "    width = 2*sigma_u\n",
        "    height = 2*sigma_v\n",
        "\n",
        "    #Calculate the orientation of the error ellipse.\n",
        "    tan_2theta = tan_2theta.subs([(sigma_x_sq,V_xy[0,0]),(sigma_y_sq,V_xy[1,1]),(sigma_xy,V_xy[0,1])])\n",
        "    theta = math.atan(tan_2theta)*180/(2*math.pi)\n",
        "    \n",
        "    #Extract the variances and the covariances from the input matrix.\n",
        "    sigma_x=V_xy[0,0]**0.5\n",
        "    sigma_y=V_xy[1,1]**0.5\n",
        "    sigma_xy=V_xy[0,1]\n",
        "\n",
        "    #Angle investigation.\n",
        "    if sigma_x>sigma_y:\n",
        "      if sigma_xy>0:angle=theta\n",
        "      if sigma_xy<0:angle=theta+180\n",
        "    if sigma_x<sigma_y:\n",
        "      if sigma_xy>0:angle=theta+90  \n",
        "      if sigma_xy<0:angle=theta+90  \n",
        "    if sigma_x==sigma_y:\n",
        "      if sigma_xy>0:angle=45\n",
        "      if sigma_xy<0:angle=135\n",
        " \n",
        "  return width, height, angle"
      ],
      "execution_count": 24,
      "outputs": []
    },
    {
      "cell_type": "code",
      "metadata": {
        "id": "iy9v-kfzCtai"
      },
      "source": [
        "def ellipse_args(netnodecode1, netnodecode2=9999, V_x_hat=V_x_hat_extended):\n",
        "\n",
        "  '''This function takes as arguments the specific network node for the calculation of the absolute error ellipse properties, or\n",
        "  the two network nodes of the corresponding network edge in wich we want to calculate the relative error ellipse arguments. \n",
        "  Aditionally this function takes as argument the variance-covariance matrix of the coordinates of all network nodes. As output,\n",
        "  it extracts the absolute or relative ellipse properties.'''\n",
        "  \n",
        "  netnodecode=netnodecode1\n",
        "  if netnodecode < 5:\n",
        "\n",
        "    if netnodecode2 == 9999: #If we want to calculate the absolute error ellipse.\n",
        "      \n",
        "      #Extract the variance-covariance submatrix of the given network node.\n",
        "      V_xy = V_x_hat[2*netnodecode:2*netnodecode+2,2*netnodecode:2*netnodecode+2]\n",
        "      width, height, angle = auxfunc(V_xy)\n",
        "      return width, height, angle\n",
        "\n",
        "    elif netnodecode2 < 5: #If we want to calculate the relative error ellipse.\n",
        "      \n",
        "      Jrij = np.array([[-1,0,1,0],[0,-1,0,1]])\n",
        "      Vrig = np.ones(shape=(4,4))\n",
        "\n",
        "      #Extract the variance-covariance submatrix of the given network edge.\n",
        "      V_xy1 = V_x_hat[2*netnodecode1:2*netnodecode1+2,2*netnodecode1:2*netnodecode1+2] \n",
        "      V_xy2 = V_x_hat[2*netnodecode2:2*netnodecode2+2,2*netnodecode2:2*netnodecode2+2] \n",
        "      V1 = V_x_hat[2*netnodecode1:2*netnodecode1+2,2*netnodecode2:2*netnodecode2+2] \n",
        "      V2 = V_x_hat[2*netnodecode2:2*netnodecode2+2,2*netnodecode1:2*netnodecode1+2] \n",
        "      Vrig=np.asarray(np.bmat([[V_xy1, V1], [V2, V_xy2]]))\n",
        "\n",
        "      VDrij = multi_dot([Jrij,Vrig,Jrij.T])\n",
        "      width, height, angle = auxfunc(VDrij)\n",
        "      return width, height, angle\n",
        "      \n",
        "  else: return print(\"There is no network node with the given code name!\")"
      ],
      "execution_count": 25,
      "outputs": []
    },
    {
      "cell_type": "code",
      "metadata": {
        "colab": {
          "base_uri": "https://localhost:8080/",
          "height": 621
        },
        "id": "RU1BoyOzOzrY",
        "outputId": "b07afec8-40fc-4ba5-ef33-005ebc0ae59f"
      },
      "source": [
        "#Graphical representation of the error ellipses. \n",
        "\n",
        "fig=plt.figure(figsize=(15,10))\n",
        "ax = fig.add_subplot(111, aspect='equal')\n",
        "\n",
        "#Define plot options.\n",
        "scalefactor = 1000\n",
        "ld=1.5\n",
        "ellcolor = 'red'\n",
        "ellzorder = 4\n",
        "pointzorder = 5\n",
        "\n",
        "#Plot network edges.\n",
        "plt.plot(lines_x, lines_y, linewidth=0.6, markersize=8, alpha=1)\n",
        "\n",
        "#Plot network nodes.\n",
        "plt.scatter(x_hat, y_hat, marker=\"+\", zorder=pointzorder, s=70, c='black')\n",
        "\n",
        "#Plot nodenames.\n",
        "nodenames=[\"A\",\"B\",\"C\",\"D\",\"E\"]\n",
        "for i, txt in enumerate(nodenames):\n",
        "    ax.annotate(txt, (x_hat[i], y_hat[i]), xytext=(x_hat[i]+5,y_hat[i]+5), zorder=pointzorder)\n",
        "\n",
        "#Absolute error ellipses of all network nodes.\n",
        "width, height, angle = ellipse_args(0)\n",
        "ax.add_artist(Ellipse(xy=X_hat_extended[:2], width=width*scalefactor, height=height*scalefactor, angle=angle, fill=None, alpha=1, linewidth=ld, color=ellcolor, zorder=ellzorder))\n",
        "width, height, angle = ellipse_args(1)\n",
        "ax.add_artist(Ellipse(xy=X_hat_extended[2:4], width=width*scalefactor, height=height*scalefactor, angle=angle, fill=None, alpha=1, linewidth=ld, color=ellcolor, zorder=ellzorder))\n",
        "width, height, angle = ellipse_args(2)\n",
        "ax.add_artist(Ellipse(xy=X_hat_extended[4:6], width=width*scalefactor, height=height*scalefactor, angle=angle, fill=None, alpha=1, linewidth=ld, color=ellcolor, zorder=ellzorder))\n",
        "width, height, angle = ellipse_args(3)\n",
        "ax.add_artist(Ellipse(xy=X_hat_extended[6:8], width=width*scalefactor, height=height*scalefactor, angle=angle, fill=None, alpha=1, linewidth=ld, color=ellcolor, zorder=ellzorder))\n",
        "width, height, angle = ellipse_args(4)\n",
        "ax.add_artist(Ellipse(xy=X_hat_extended[8:], width=width*scalefactor, height=height*scalefactor, angle=angle, fill=None, alpha=1, linewidth=ld, color=ellcolor, zorder=ellzorder))\n",
        "\n",
        "#Relative error ellipses between each station pair.\n",
        "\n",
        "#Edge AC.\n",
        "width, height, angle = ellipse_args(0,2)\n",
        "xy=(X_hat_extended[:2]+X_hat_extended[4:6])/2\n",
        "xx = np.array([x_hat[0],x_hat[2]])\n",
        "yy = np.array([y_hat[0],y_hat[2]])\n",
        "plt.plot(xx, yy, \"k--\", linewidth=2, markersize=4)\n",
        "plt.plot((x_hat[0]+x_hat[2])/2,(y_hat[0]+y_hat[2])/2, marker=\".\", color='red', mec=\"black\", markersize=12, zorder=pointzorder)\n",
        "ax.add_artist(Ellipse(xy=xy, width=width*scalefactor, height=height*scalefactor, angle=angle, fill=None, alpha=1, linewidth=ld, color=ellcolor, zorder=ellzorder))\n",
        "\n",
        "#Edge AB.\n",
        "width, height, angle = ellipse_args(0,1)\n",
        "xy=(X_hat_extended[:2]+X_hat_extended[2:4])/2\n",
        "xx = np.array([x_hat[0],x_hat[1]])\n",
        "yy = np.array([y_hat[0],y_hat[1]])\n",
        "plt.plot(xx, yy, \"k--\", linewidth=2, markersize=4)\n",
        "plt.plot((x_hat[1]+x_hat[0])/2,(y_hat[1]+y_hat[0])/2, marker=\".\", color='red', mec=\"black\", markersize=12, zorder=pointzorder)\n",
        "ax.add_artist(Ellipse(xy=xy, width=width*scalefactor, height=height*scalefactor, angle=angle, fill=None, alpha=1, linewidth=ld, color=ellcolor, zorder=ellzorder))\n",
        "\n",
        "#Edge DB.\n",
        "width, height, angle = ellipse_args(3,1)\n",
        "xy=(X_hat_extended[6:8]+X_hat_extended[2:4])/2\n",
        "xx = np.array([x_hat[3],x_hat[1]])\n",
        "yy = np.array([y_hat[3],y_hat[1]])\n",
        "plt.plot(xx, yy, \"k--\", linewidth=2, markersize=4)\n",
        "plt.plot((x_hat[3]+x_hat[1])/2,(y_hat[3]+y_hat[1])/2, marker=\".\", color='red', mec=\"black\", markersize=12, zorder=pointzorder)\n",
        "ax.add_artist(Ellipse(xy=xy, width=width*scalefactor, height=height*scalefactor, angle=angle, fill=None, alpha=1, linewidth=ld, color=ellcolor, zorder=ellzorder))\n",
        "\n",
        "#Edge EC.\n",
        "width, height, angle = ellipse_args(4,2)\n",
        "xy=(X_hat_extended[8:]+X_hat_extended[4:6])/2\n",
        "xx = np.array([x_hat[4],x_hat[2]])\n",
        "yy = np.array([y_hat[4],y_hat[2]])\n",
        "plt.plot(xx, yy, \"k--\", linewidth=2, markersize=4)\n",
        "plt.plot((x_hat[4]+x_hat[2])/2,(y_hat[4]+y_hat[2])/2, marker=\".\", color='red', mec=\"black\", markersize=12, zorder=pointzorder)\n",
        "ax.add_artist(Ellipse(xy=xy, width=width*scalefactor, height=height*scalefactor, angle=angle, fill=None, alpha=1, linewidth=ld, color=ellcolor, zorder=ellzorder))\n",
        "\n",
        "#Edge BC.\n",
        "width, height, angle = ellipse_args(1,2)\n",
        "xy=(X_hat_extended[2:4]+X_hat_extended[4:6])/2\n",
        "xx = np.array([x_hat[1],x_hat[2]])\n",
        "yy = np.array([y_hat[1],y_hat[2]])\n",
        "plt.plot(xx, yy, \"k--\", linewidth=2, markersize=4)\n",
        "plt.plot((x_hat[1]+x_hat[2])/2,(y_hat[1]+y_hat[2])/2, marker=\".\", color='red', mec=\"black\", markersize=12, zorder=pointzorder)\n",
        "ax.add_artist(Ellipse(xy=xy, width=width*scalefactor, height=height*scalefactor, angle=angle, fill=None, alpha=1, linewidth=ld, color=ellcolor, zorder=ellzorder))\n",
        "\n",
        "plt.title(\"Absolute and Relative error ellipses - Minimum Εxternal Constraints\")\n",
        "plt.xlabel(\"X (m)\")\n",
        "plt.ylabel(\"Y (m)\")\n",
        "plt.show();"
      ],
      "execution_count": 26,
      "outputs": [
        {
          "output_type": "display_data",
          "data": {
            "image/png": "[encoded data removed]",
            "text/plain": [
              "<Figure size 1080x720 with 1 Axes>"
            ]
          },
          "metadata": {
            "tags": [],
            "needs_background": "light"
          }
        }
      ]
    },
    {
      "cell_type": "code",
      "metadata": {
        "id": "W7hwY9Mzfujp"
      },
      "source": [
        "#Save the figure.\n",
        "formatype='png'\n",
        "fig.savefig(\"/content/sample_data/Error_Ellipses_Minimum_Εxternal_Constraints.\"+formatype, dpi=300, facecolor='w', edgecolor='w',\n",
        "        orientation='portrait', papertype=None, format=formatype,\n",
        "        transparent=False, bbox_inches=None, pad_inches=0.1,\n",
        "        metadata=None);"
      ],
      "execution_count": 27,
      "outputs": []
    }
  ]
}